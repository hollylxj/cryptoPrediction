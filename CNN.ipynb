{
 "cells": [
  {
   "cell_type": "code",
   "execution_count": 1,
   "metadata": {},
   "outputs": [
    {
     "name": "stderr",
     "output_type": "stream",
     "text": [
      "/home/shared/anaconda3/lib/python3.6/site-packages/h5py/__init__.py:36: FutureWarning: Conversion of the second argument of issubdtype from `float` to `np.floating` is deprecated. In future, it will be treated as `np.float64 == np.dtype(float).type`.\n",
      "  from ._conv import register_converters as _register_converters\n",
      "Using TensorFlow backend.\n"
     ]
    }
   ],
   "source": [
    "import os\n",
    "import glob\n",
    "import pickle\n",
    "import random\n",
    "import math\n",
    "import shutil\n",
    "import numpy as np\n",
    "import pandas as pd\n",
    "import tensorflow as tf\n",
    "from sklearn.preprocessing import OneHotEncoder\n",
    "from skimage.io import imread, imsave\n",
    "from scipy.misc import imresize\n",
    "\n",
    "from keras.utils import np_utils\n",
    "from keras.models import Sequential\n",
    "from keras.layers.core import Dense, Dropout, Activation, Flatten\n",
    "from keras.layers.convolutional import Convolution2D, MaxPooling2D\n",
    "from keras.models import load_model, Model\n",
    "from keras.optimizers import SGD,RMSprop,adam\n",
    "\n",
    "import pickle\n",
    "import pandas\n",
    "import numpy as np\n",
    "\n",
    "import keras\n",
    "from keras.preprocessing import image\n",
    "from keras import applications\n",
    "from keras.models import Sequential\n",
    "from keras.applications import vgg16\n",
    "from keras.applications.vgg16 import VGG16\n",
    "from keras.applications.vgg16 import preprocess_input\n",
    "from keras.models import Model\n",
    "from keras.layers import Conv2D, Conv3D,Input, ZeroPadding3D, Reshape,LSTM\n",
    "from keras.layers.convolutional import Convolution2D, Convolution3D, MaxPooling2D, ZeroPadding2D,ZeroPadding3D \n",
    "from keras.layers.core import Reshape\n",
    "import os\n",
    "from keras.utils import np_utils\n",
    "from keras.preprocessing.image import ImageDataGenerator\n",
    "from keras.models import Sequential\n",
    "from keras.callbacks import CSVLogger\n",
    "from keras.models import Sequential\n",
    "from keras.layers.core import Flatten, Dense, Dropout\n",
    "from keras.optimizers import SGD\n",
    "from keras.layers import Merge \n",
    "import numpy as np\n",
    "import keras\n",
    "import keras.backend as K\n",
    "from keras.callbacks import ModelCheckpoint\n",
    "from keras.callbacks import LambdaCallback\n",
    "from keras import regularizers\n",
    "from keras import backend as K"
   ]
  },
  {
   "cell_type": "code",
   "execution_count": 2,
   "metadata": {},
   "outputs": [],
   "source": [
    "# X = np.load(\"train_X_normalized_lstm_regression.pkl.npy\")\n",
    "# Y = np.load(\"train_Y_normalized_lstm_regression.pkl.npy\")\n",
    "X = np.load(\"train_X_normalized_lstm_delta.pkl.npy\")\n",
    "Y = np.load(\"train_Y_normalized_lstm_delta.pkl.npy\")"
   ]
  },
  {
   "cell_type": "code",
   "execution_count": 3,
   "metadata": {},
   "outputs": [],
   "source": [
    "X = X.reshape(-1, 60,5,1)"
   ]
  },
  {
   "cell_type": "code",
   "execution_count": 4,
   "metadata": {},
   "outputs": [
    {
     "data": {
      "text/plain": [
       "(622641, 60, 5, 1)"
      ]
     },
     "execution_count": 4,
     "metadata": {},
     "output_type": "execute_result"
    }
   ],
   "source": [
    "X.shape"
   ]
  },
  {
   "cell_type": "code",
   "execution_count": 11,
   "metadata": {},
   "outputs": [],
   "source": [
    "def simple_cnn_model(X, Y):\n",
    "    model = Sequential()\n",
    "    model.add(Convolution2D(filters = 64, kernel_size = (30, 3), init='he_normal', padding = 'same', activation='relu', input_shape=(60, 5, 1)))\n",
    "    #model.add(MaxPooling2D(pool_size = (1,2), strides = (1,2)))\n",
    "    model.add(Convolution2D(filters = 128, kernel_size = (10, 2), init='he_normal', padding = 'same', activation='relu'))\n",
    "    #model.add(MaxPooling2D(pool_size = (1,5), strides = (1,5)))    \n",
    "    model.add(Convolution2D(filters = 256, kernel_size = (5, 2), init='he_normal', padding = 'same', activation='relu'))\n",
    "    #model.add(MaxPooling2D(pool_size = (1,2), strides = (1,2)))\n",
    "    \n",
    "    model.add(Flatten())\n",
    "    model.add(Dense(256, activation = 'relu'))\n",
    "    model.add(Dropout(0.4))\n",
    "    model.add(Dense(8, activation = 'softmax'))\n",
    "    \n",
    "    adam = keras.optimizers.Adam(lr=0.001, beta_1=0.9, beta_2=0.999, epsilon=1e-08, decay=0.0)\n",
    "    model.compile(loss='categorical_crossentropy', optimizer= 'sgd', metrics=['accuracy'])\n",
    "    #earlyStopping=keras.callbacks.EarlyStopping(monitor='val_loss', patience=2, verbose=0, mode='auto')\n",
    "    #datagen = tf.keras.preprocessing.image.ImageDataGenerator(rotation_range=15, height_shift_range=0.05, \n",
    "    #            shear_range=0.1, channel_shift_range=20, width_shift_range=0.1)\n",
    "    #datagen.fit(x_train)\n",
    "    #model.fit_generator(datagen.flow(x_train, y_label, batch_size=32),steps_per_epoch = len(x_train)/32,\n",
    "    #                    epochs=10,validation_data=(x_valid, y_valid))\n",
    "    \n",
    "    return model\n",
    "   \n"
   ]
  },
  {
   "cell_type": "code",
   "execution_count": 12,
   "metadata": {},
   "outputs": [
    {
     "name": "stdout",
     "output_type": "stream",
     "text": [
      "_________________________________________________________________\n",
      "Layer (type)                 Output Shape              Param #   \n",
      "=================================================================\n",
      "conv2d_7 (Conv2D)            (None, 60, 5, 64)         5824      \n",
      "_________________________________________________________________\n",
      "conv2d_8 (Conv2D)            (None, 60, 5, 128)        163968    \n",
      "_________________________________________________________________\n",
      "conv2d_9 (Conv2D)            (None, 60, 5, 256)        327936    \n",
      "_________________________________________________________________\n",
      "flatten_3 (Flatten)          (None, 76800)             0         \n",
      "_________________________________________________________________\n",
      "dense_5 (Dense)              (None, 256)               19661056  \n",
      "_________________________________________________________________\n",
      "dropout_3 (Dropout)          (None, 256)               0         \n",
      "_________________________________________________________________\n",
      "dense_6 (Dense)              (None, 8)                 2056      \n",
      "=================================================================\n",
      "Total params: 20,160,840\n",
      "Trainable params: 20,160,840\n",
      "Non-trainable params: 0\n",
      "_________________________________________________________________\n"
     ]
    },
    {
     "name": "stderr",
     "output_type": "stream",
     "text": [
      "/home/shared/anaconda3/lib/python3.6/site-packages/ipykernel_launcher.py:3: UserWarning: Update your `Conv2D` call to the Keras 2 API: `Conv2D(filters=64, kernel_size=(30, 3), padding=\"same\", activation=\"relu\", input_shape=(60, 5, 1), kernel_initializer=\"he_normal\")`\n",
      "  This is separate from the ipykernel package so we can avoid doing imports until\n",
      "/home/shared/anaconda3/lib/python3.6/site-packages/ipykernel_launcher.py:5: UserWarning: Update your `Conv2D` call to the Keras 2 API: `Conv2D(filters=128, kernel_size=(10, 2), padding=\"same\", activation=\"relu\", kernel_initializer=\"he_normal\")`\n",
      "  \"\"\"\n",
      "/home/shared/anaconda3/lib/python3.6/site-packages/ipykernel_launcher.py:7: UserWarning: Update your `Conv2D` call to the Keras 2 API: `Conv2D(filters=256, kernel_size=(5, 2), padding=\"same\", activation=\"relu\", kernel_initializer=\"he_normal\")`\n",
      "  import sys\n"
     ]
    }
   ],
   "source": [
    "model = simple_cnn_model(X, Y)\n",
    "model.summary()"
   ]
  },
  {
   "cell_type": "code",
   "execution_count": null,
   "metadata": {},
   "outputs": [
    {
     "name": "stdout",
     "output_type": "stream",
     "text": [
      "Train on 560376 samples, validate on 62265 samples\n",
      "Epoch 1/10\n",
      "560376/560376 [==============================] - 430s 767us/step - loss: 1.9087 - acc: 0.3168 - val_loss: 1.9539 - val_acc: 0.2935\n",
      "Epoch 2/10\n",
      "560376/560376 [==============================] - 427s 762us/step - loss: 1.8829 - acc: 0.3205 - val_loss: 1.9743 - val_acc: 0.2961\n",
      "Epoch 3/10\n",
      "560376/560376 [==============================] - 427s 762us/step - loss: 1.8783 - acc: 0.3219 - val_loss: 1.9421 - val_acc: 0.2967\n",
      "Epoch 4/10\n",
      "560376/560376 [==============================] - 427s 762us/step - loss: 1.8758 - acc: 0.3225 - val_loss: 1.9463 - val_acc: 0.2975\n",
      "Epoch 5/10\n",
      "  6656/560376 [..............................] - ETA: 6:47 - loss: 1.8697 - acc: 0.3214"
     ]
    }
   ],
   "source": [
    "res = model.fit(X, Y ,batch_size=512, epochs=10,verbose=1, shuffle=True,validation_split = 0.1)"
   ]
  },
  {
   "cell_type": "code",
   "execution_count": null,
   "metadata": {},
   "outputs": [],
   "source": [
    "model.save(\"CNN_1_delta.h5\")"
   ]
  }
 ],
 "metadata": {
  "kernelspec": {
   "display_name": "Python 3",
   "language": "python",
   "name": "python3"
  },
  "language_info": {
   "codemirror_mode": {
    "name": "ipython",
    "version": 3
   },
   "file_extension": ".py",
   "mimetype": "text/x-python",
   "name": "python",
   "nbconvert_exporter": "python",
   "pygments_lexer": "ipython3",
   "version": "3.6.4"
  }
 },
 "nbformat": 4,
 "nbformat_minor": 2
}
