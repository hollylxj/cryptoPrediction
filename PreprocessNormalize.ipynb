{
 "cells": [
  {
   "cell_type": "code",
   "execution_count": 5,
   "metadata": {
    "scrolled": true
   },
   "outputs": [],
   "source": [
    "import pickle\n",
    "import pandas\n",
    "import numpy as np\n",
    "from datetime import datetime\n",
    "\n",
    "import keras\n",
    "from keras.preprocessing import image\n",
    "from keras import applications\n",
    "from keras.models import Sequential\n",
    "from keras.applications import vgg16\n",
    "from keras.applications.vgg16 import VGG16\n",
    "from keras.applications.vgg16 import preprocess_input\n",
    "from keras.models import Model\n",
    "from keras.layers import Conv2D, Conv3D,Input, ZeroPadding3D, Reshape\n",
    "from keras.layers.convolutional import Convolution2D, Convolution3D, MaxPooling2D, ZeroPadding2D,ZeroPadding3D \n",
    "from keras.layers.core import Reshape\n",
    "import os\n",
    "from keras.utils import np_utils\n",
    "from keras.preprocessing.image import ImageDataGenerator\n",
    "from keras.models import Sequential\n",
    "from keras.callbacks import CSVLogger\n",
    "from keras.models import Sequential\n",
    "from keras.layers.core import Flatten, Dense, Dropout\n",
    "from keras.optimizers import SGD\n",
    "from keras.layers import Merge \n",
    "import numpy as np\n",
    "import keras\n",
    "import keras.backend as K\n",
    "from keras.callbacks import ModelCheckpoint\n",
    "from keras.callbacks import LambdaCallback\n",
    "\n",
    "with open('BTC-USD-60.pkl', 'rb') as f:\n",
    "    data = pickle.load(f)\n",
    "\n",
    "#:chunk = filter_df(df_chunk, event_type='Fill')\n",
    "data = data.sort_values(by=['time'])\n",
    "\n"
   ]
  },
  {
   "cell_type": "code",
   "execution_count": 6,
   "metadata": {},
   "outputs": [
    {
     "name": "stdout",
     "output_type": "stream",
     "text": [
      "2016 1 1 13 51\n"
     ]
    }
   ],
   "source": [
    "## This block process the date/time info, currently not used.\n",
    "time = np.array(data.time)\n",
    "#print(time)\n",
    "new_time = []\n",
    "year,month,day,hour,minute,second = [],[],[],[],[],[]\n",
    "for i in range(len(time)):\n",
    "    new_time.append(datetime.fromtimestamp(time[i]).strftime('%Y-%m-%d %H:%M:%S'))\n",
    "    year.append(int(new_time[i][:4]))\n",
    "    month.append(int(new_time[i][5:7]))\n",
    "    day.append(int(new_time[i][8:10]))\n",
    "    hour.append(int(new_time[i][11:13]))\n",
    "    minute.append(int(new_time[i][14:16]))\n",
    "    #second.append(int(new_time[i][17:19]))\n",
    "    \n",
    "print(year[3],month[33],day[333],hour[3333],minute[10000])\n"
   ]
  },
  {
   "cell_type": "code",
   "execution_count": 7,
   "metadata": {
    "scrolled": true
   },
   "outputs": [
    {
     "name": "stdout",
     "output_type": "stream",
     "text": [
      "          low      high      open     close     volume\n",
      "280  6.064599  6.064692  6.064599  6.064692   0.072700\n",
      "279  6.064669  6.064715  6.064669  6.064715   0.947800\n",
      "278  6.064715  6.064715  6.064715  6.064715   1.633400\n",
      "277  6.064622  6.064692  6.064692  6.064622  12.566300\n",
      "276  6.064692  6.064692  6.064692  6.064692   1.953000\n",
      "275  6.064715  6.066015  6.064715  6.066015  12.114161\n",
      "274  6.066015  6.066526  6.066015  6.066526  10.660594\n",
      "273  6.066502  6.068009  6.066502  6.068009   2.610375\n",
      "272  6.067314  6.067939  6.067430  6.067314   3.142300\n",
      "271  6.067407  6.067476  6.067430  6.067476   1.973100\n",
      "270  6.067453  6.067453  6.067453  6.067453   0.750000\n",
      "269  6.067430  6.067430  6.067430  6.067430   3.791700\n",
      "268  6.067430  6.067430  6.067430  6.067430   3.441600\n",
      "267  6.066549  6.067383  6.067383  6.066549   0.896900\n",
      "266  6.066642  6.066642  6.066642  6.066642   0.046800\n",
      "265  6.066642  6.066989  6.066642  6.066873   7.627500\n",
      "264  6.066897  6.067036  6.066897  6.067036   0.170300\n",
      "263  6.067198  6.067198  6.067198  6.067198   0.120500\n",
      "262  6.067221  6.067268  6.067221  6.067268   1.059200\n",
      "261  6.067268  6.067268  6.067268  6.067268   2.203900\n",
      "260  6.067383  6.067407  6.067407  6.067383   2.306800\n",
      "259  6.067360  6.067383  6.067360  6.067383   0.447600\n",
      "258  6.067360  6.067661  6.067360  6.067661   5.085100\n",
      "257  6.067569  6.067824  6.067569  6.067824   0.604500\n",
      "256  6.067731  6.067777  6.067731  6.067777   0.152100\n",
      "255  6.067592  6.067754  6.067754  6.067592   0.997500\n",
      "254  6.067800  6.067824  6.067824  6.067800   0.488133\n",
      "253  6.067824  6.067824  6.067824  6.067824   0.803400\n",
      "252  6.067800  6.067800  6.067800  6.067800   0.164900\n",
      "251  6.067824  6.067824  6.067824  6.067824   0.460300\n",
      "..        ...       ...       ...       ...        ...\n",
      "29   8.909583  8.909585  8.909584  8.909584   6.421052\n",
      "28   8.909584  8.909585  8.909584  8.909584   5.796967\n",
      "27   8.909584  8.909585  8.909585  8.909584   5.364045\n",
      "26   8.909585  8.911125  8.909585  8.910309   8.303700\n",
      "25   8.910309  8.910310  8.910310  8.910310  11.274413\n",
      "24   8.910309  8.910310  8.910310  8.910309   3.778109\n",
      "23   8.909101  8.910310  8.910310  8.909101  51.537062\n",
      "22   8.908747  8.909101  8.909100  8.909100   2.995044\n",
      "21   8.909100  8.909101  8.909100  8.909100   6.462411\n",
      "20   8.909100  8.909101  8.909101  8.909100  13.427608\n",
      "19   8.909101  8.909103  8.909103  8.909103   1.974664\n",
      "18   8.909101  8.909103  8.909103  8.909103   1.457169\n",
      "17   8.909100  8.909103  8.909101  8.909101   7.970486\n",
      "16   8.908546  8.909101  8.909100  8.908547   8.744523\n",
      "15   8.908546  8.908547  8.908547  8.908547   3.421721\n",
      "14   8.907884  8.908547  8.908546  8.907886  11.680876\n",
      "13   8.905309  8.907884  8.907884  8.905486  62.505507\n",
      "12   8.905486  8.905588  8.905486  8.905587   8.261728\n",
      "11   8.905587  8.906673  8.905588  8.906673  12.818365\n",
      "10   8.906671  8.906673  8.906673  8.906671   4.529618\n",
      "9    8.906671  8.906673  8.906673  8.906673   1.629664\n",
      "8    8.906671  8.906673  8.906673  8.906671   1.605298\n",
      "7    8.906671  8.906732  8.906671  8.906732   5.465275\n",
      "6    8.906731  8.908559  8.906731  8.908558   7.210641\n",
      "5    8.908558  8.908965  8.908559  8.908964   1.613146\n",
      "4    8.908964  8.908965  8.908964  8.908965   2.247034\n",
      "3    8.908964  8.908965  8.908965  8.908964   3.984099\n",
      "2    8.908964  8.908965  8.908965  8.908964   0.989133\n",
      "1    8.908964  8.908965  8.908965  8.908965   3.272100\n",
      "0    8.908964  8.908964  8.908964  8.908964   0.054200\n",
      "\n",
      "[1150063 rows x 5 columns]\n"
     ]
    }
   ],
   "source": [
    "#print(data)\n",
    "#data.drop([columns = 'time'])\n",
    "data = data.drop('time', 1)\n",
    "data.low = np.log(data.low)\n",
    "data.high = np.log(data.high)\n",
    "data.open = np.log(data.open)\n",
    "data.close = np.log(data.close)\n",
    "\n",
    "print(data)"
   ]
  },
  {
   "cell_type": "code",
   "execution_count": 9,
   "metadata": {
    "scrolled": true
   },
   "outputs": [],
   "source": [
    "mean = data.mean(axis = 0)\n",
    "std = data.std(axis = 0)\n",
    "#print(mean)\n",
    "#print(std)\n",
    "data = (data - mean)/std\n",
    "#print(data)\n",
    "\n",
    "year = np.array(year)\n",
    "month = np.array(month)\n",
    "day = np.array(day)\n",
    "hour = np.array(hour)\n",
    "minute = np.array(minute)\n",
    "#second = np.array(second)\n",
    "\n",
    "year = (year - year.mean())/year.std()\n",
    "month = (month - month.mean())/month.std()\n",
    "day = (day - day.mean())/day.std()\n",
    "hour = (hour - hour.mean())/hour.std()\n",
    "minute = (minute - minute.mean())/minute.std()\n",
    "#second = (second - second.mean())/second.std()\n",
    "#print(data)"
   ]
  },
  {
   "cell_type": "code",
   "execution_count": 10,
   "metadata": {},
   "outputs": [],
   "source": [
    "def baseline_preprocess(data):\n",
    "    A = np.array(data.open)\n",
    "    B = np.array(data.close)\n",
    "    C = (A + B) / 2\n",
    "\n",
    "    i = 0\n",
    "    train_X = []\n",
    "    train_Y = []\n",
    "    for i in range(0,len(C) - 60):\n",
    "        temp = C[i:i+60]\n",
    "        #print(temp[60])\n",
    "        train_X.append(temp)\n",
    "        train_Y.append(C[i + 60])\n",
    "    #train_X = np.transpose(train_X)\n",
    "    \n",
    "    return train_X, train_Y"
   ]
  },
  {
   "cell_type": "code",
   "execution_count": 11,
   "metadata": {},
   "outputs": [],
   "source": [
    "train_X, train_Y = baseline_preprocess(data)\n",
    "np.savetxt(\"train_X_normalized_baseline.csv\", train_X, delimiter = \",\")\n",
    "np.savetxt(\"train_Y_normalized_baseline.csv\", train_Y, delimiter = \",\")"
   ]
  },
  {
   "cell_type": "code",
   "execution_count": 12,
   "metadata": {},
   "outputs": [],
   "source": [
    "def fc_preprocess(data, year, hour):\n",
    "    A = np.array(data.open)\n",
    "    B = np.array(data.close)\n",
    "    C = (A + B) / 2\n",
    "\n",
    "    i = 0\n",
    "    train_X = []\n",
    "    train_Y = []\n",
    "    for i in range(0,len(C) - 60):\n",
    "        temp = C[i:i+60]\n",
    "#         temp_year = year[i:i+60]\n",
    "#         temp_hour = hour[i:i+60]\n",
    "        #print(temp[60])\n",
    "        train_X.append()\n",
    "        train_Y.append(C[i + 60])\n",
    "    #train_X = np.transpose(train_X)\n",
    "    \n",
    "    return train_X, train_Y"
   ]
  },
  {
   "cell_type": "code",
   "execution_count": 13,
   "metadata": {},
   "outputs": [
    {
     "ename": "TypeError",
     "evalue": "append() takes exactly one argument (0 given)",
     "output_type": "error",
     "traceback": [
      "\u001b[0;31m---------------------------------------------------------------------------\u001b[0m",
      "\u001b[0;31mTypeError\u001b[0m                                 Traceback (most recent call last)",
      "\u001b[0;32m<ipython-input-13-4029c0c411a5>\u001b[0m in \u001b[0;36m<module>\u001b[0;34m()\u001b[0m\n\u001b[0;32m----> 1\u001b[0;31m \u001b[0mtrain_X\u001b[0m\u001b[0;34m,\u001b[0m \u001b[0mtrain_Y\u001b[0m \u001b[0;34m=\u001b[0m \u001b[0mfc_preprocess\u001b[0m\u001b[0;34m(\u001b[0m\u001b[0mdata\u001b[0m\u001b[0;34m,\u001b[0m \u001b[0myear\u001b[0m\u001b[0;34m,\u001b[0m \u001b[0mhour\u001b[0m\u001b[0;34m)\u001b[0m\u001b[0;34m\u001b[0m\u001b[0m\n\u001b[0m\u001b[1;32m      2\u001b[0m \u001b[0;31m#train_Y = np.log(train_Y)\u001b[0m\u001b[0;34m\u001b[0m\u001b[0;34m\u001b[0m\u001b[0m\n\u001b[1;32m      3\u001b[0m \u001b[0mnp\u001b[0m\u001b[0;34m.\u001b[0m\u001b[0msavetxt\u001b[0m\u001b[0;34m(\u001b[0m\u001b[0;34m\"train_X_normalized_fc.csv\"\u001b[0m\u001b[0;34m,\u001b[0m \u001b[0mtrain_X\u001b[0m\u001b[0;34m,\u001b[0m \u001b[0mdelimiter\u001b[0m \u001b[0;34m=\u001b[0m \u001b[0;34m\",\"\u001b[0m\u001b[0;34m)\u001b[0m\u001b[0;34m\u001b[0m\u001b[0m\n\u001b[1;32m      4\u001b[0m \u001b[0mnp\u001b[0m\u001b[0;34m.\u001b[0m\u001b[0msavetxt\u001b[0m\u001b[0;34m(\u001b[0m\u001b[0;34m\"train_Y_normalized_fc.csv\"\u001b[0m\u001b[0;34m,\u001b[0m \u001b[0mtrain_Y\u001b[0m\u001b[0;34m,\u001b[0m \u001b[0mdelimiter\u001b[0m \u001b[0;34m=\u001b[0m \u001b[0;34m\",\"\u001b[0m\u001b[0;34m)\u001b[0m\u001b[0;34m\u001b[0m\u001b[0m\n",
      "\u001b[0;32m<ipython-input-12-5e5a7438b875>\u001b[0m in \u001b[0;36mfc_preprocess\u001b[0;34m(data, year, hour)\u001b[0m\n\u001b[1;32m     12\u001b[0m \u001b[0;31m#         temp_hour = hour[i:i+60]\u001b[0m\u001b[0;34m\u001b[0m\u001b[0;34m\u001b[0m\u001b[0m\n\u001b[1;32m     13\u001b[0m         \u001b[0;31m#print(temp[60])\u001b[0m\u001b[0;34m\u001b[0m\u001b[0;34m\u001b[0m\u001b[0m\n\u001b[0;32m---> 14\u001b[0;31m         \u001b[0mtrain_X\u001b[0m\u001b[0;34m.\u001b[0m\u001b[0mappend\u001b[0m\u001b[0;34m(\u001b[0m\u001b[0;34m)\u001b[0m\u001b[0;34m\u001b[0m\u001b[0m\n\u001b[0m\u001b[1;32m     15\u001b[0m         \u001b[0mtrain_Y\u001b[0m\u001b[0;34m.\u001b[0m\u001b[0mappend\u001b[0m\u001b[0;34m(\u001b[0m\u001b[0mC\u001b[0m\u001b[0;34m[\u001b[0m\u001b[0mi\u001b[0m \u001b[0;34m+\u001b[0m \u001b[0;36m60\u001b[0m\u001b[0;34m]\u001b[0m\u001b[0;34m)\u001b[0m\u001b[0;34m\u001b[0m\u001b[0m\n\u001b[1;32m     16\u001b[0m     \u001b[0;31m#train_X = np.transpose(train_X)\u001b[0m\u001b[0;34m\u001b[0m\u001b[0;34m\u001b[0m\u001b[0m\n",
      "\u001b[0;31mTypeError\u001b[0m: append() takes exactly one argument (0 given)"
     ]
    }
   ],
   "source": [
    "train_X, train_Y = fc_preprocess(data, year, hour)\n",
    "#train_Y = np.log(train_Y)\n",
    "np.savetxt(\"train_X_normalized_fc.csv\", train_X, delimiter = \",\")\n",
    "np.savetxt(\"train_Y_normalized_fc.csv\", train_Y, delimiter = \",\")"
   ]
  },
  {
   "cell_type": "code",
   "execution_count": null,
   "metadata": {},
   "outputs": [],
   "source": [
    "#data = data.drop(columns = ['time'])\n",
    "def lstm_preprocess(data, year, hour):\n",
    "    A = np.array(data.low)\n",
    "    B = np.array(data.high)\n",
    "    C = np.array(data.open)\n",
    "    D = np.array(data.close)\n",
    "    E = np.array(data.volume)\n",
    "    i = 0\n",
    "    train_X = []\n",
    "    train_Y = []\n",
    "    for i in range(0,len(C) - 60):\n",
    "        temp = []\n",
    "        temp.append(A[i:i+60])\n",
    "        temp.append(B[i:i+60])\n",
    "        temp.append(C[i:i+60])\n",
    "        temp.append(D[i:i+60])\n",
    "        temp.append(E[i:i+60])\n",
    "#         temp.append(year[i:i+60])\n",
    "#         temp.append(hour[i:i+60])\n",
    "        #print(temp[60])\n",
    "        train_X.append(temp)\n",
    "        train_Y.append(D[i + 60])\n",
    "    #print(np.shape(train_X))\n",
    "\n",
    "    return train_X, train_Y"
   ]
  },
  {
   "cell_type": "code",
   "execution_count": null,
   "metadata": {},
   "outputs": [],
   "source": [
    "train_X, train_Y = lstm_preprocess(data, year, hour)\n",
    "train_X = np.transpose(train_X, (0,2,1))\n",
    "#train_Y = np.log(train_Y)\n",
    "print(train_X.shape)"
   ]
  },
  {
   "cell_type": "code",
   "execution_count": null,
   "metadata": {},
   "outputs": [],
   "source": [
    "np.save(\"train_X_lstm_normalized_lstm.pkl\", train_X)\n",
    "np.save(\"train_Y_lstm_normalized_lstm.pkl\", train_Y)"
   ]
  },
  {
   "cell_type": "code",
   "execution_count": null,
   "metadata": {},
   "outputs": [],
   "source": [
    "train_Y"
   ]
  },
  {
   "cell_type": "code",
   "execution_count": null,
   "metadata": {},
   "outputs": [],
   "source": []
  }
 ],
 "metadata": {
  "kernelspec": {
   "display_name": "Python 3",
   "language": "python",
   "name": "python3"
  },
  "language_info": {
   "codemirror_mode": {
    "name": "ipython",
    "version": 3
   },
   "file_extension": ".py",
   "mimetype": "text/x-python",
   "name": "python",
   "nbconvert_exporter": "python",
   "pygments_lexer": "ipython3",
   "version": "3.6.4"
  }
 },
 "nbformat": 4,
 "nbformat_minor": 2
}
