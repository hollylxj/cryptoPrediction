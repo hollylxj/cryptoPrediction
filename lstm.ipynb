{
 "cells": [
  {
   "cell_type": "code",
   "execution_count": 1,
   "metadata": {},
   "outputs": [
    {
     "name": "stderr",
     "output_type": "stream",
     "text": [
      "/home/shared/anaconda3/lib/python3.6/site-packages/h5py/__init__.py:36: FutureWarning: Conversion of the second argument of issubdtype from `float` to `np.floating` is deprecated. In future, it will be treated as `np.float64 == np.dtype(float).type`.\n",
      "  from ._conv import register_converters as _register_converters\n",
      "Using TensorFlow backend.\n"
     ]
    }
   ],
   "source": [
    "import pickle\n",
    "import pandas\n",
    "import numpy as np\n",
    "\n",
    "import keras\n",
    "from keras.preprocessing import image\n",
    "from keras import applications\n",
    "from keras.models import Sequential\n",
    "from keras.applications import vgg16\n",
    "from keras.applications.vgg16 import VGG16\n",
    "from keras.applications.vgg16 import preprocess_input\n",
    "from keras.models import Model\n",
    "from keras.layers import Conv2D, Conv3D,Input, ZeroPadding3D, Reshape,LSTM\n",
    "from keras.layers.convolutional import Convolution2D, Convolution3D, MaxPooling2D, ZeroPadding2D,ZeroPadding3D \n",
    "from keras.layers.core import Reshape\n",
    "import os\n",
    "from keras.utils import np_utils\n",
    "from keras.preprocessing.image import ImageDataGenerator\n",
    "from keras.models import Sequential\n",
    "from keras.callbacks import CSVLogger\n",
    "from keras.models import Sequential\n",
    "from keras.layers.core import Flatten, Dense, Dropout\n",
    "from keras.optimizers import SGD\n",
    "from keras.layers import Merge \n",
    "import numpy as np\n",
    "import keras\n",
    "import keras.backend as K\n",
    "from keras.callbacks import ModelCheckpoint\n",
    "from keras.callbacks import LambdaCallback\n",
    "from keras import regularizers\n",
    "from keras import backend as K\n",
    "\n",
    "\n"
   ]
  },
  {
   "cell_type": "code",
   "execution_count": 2,
   "metadata": {},
   "outputs": [],
   "source": [
    "# X = np.load(\"train_X_normalized_lstm_regression.pkl.npy\")\n",
    "# Y = np.load(\"train_Y_normalized_lstm_regression.pkl.npy\")\n",
    "X = np.load(\"train_X_normalized_lstm_classification.pkl.npy\")\n",
    "Y = np.load(\"train_Y_normalized_lstm_classification.pkl.npy\")\n"
   ]
  },
  {
   "cell_type": "code",
   "execution_count": 3,
   "metadata": {},
   "outputs": [
    {
     "data": {
      "text/plain": [
       "(721699, 60, 5)"
      ]
     },
     "execution_count": 3,
     "metadata": {},
     "output_type": "execute_result"
    }
   ],
   "source": [
    "X.shape"
   ]
  },
  {
   "cell_type": "code",
   "execution_count": 4,
   "metadata": {},
   "outputs": [],
   "source": [
    "X = X.reshape(X.shape[0], X.shape[1], -1)"
   ]
  },
  {
   "cell_type": "code",
   "execution_count": 5,
   "metadata": {},
   "outputs": [
    {
     "data": {
      "text/plain": [
       "(721699, 3)"
      ]
     },
     "execution_count": 5,
     "metadata": {},
     "output_type": "execute_result"
    }
   ],
   "source": [
    "Y.shape"
   ]
  },
  {
   "cell_type": "code",
   "execution_count": 6,
   "metadata": {},
   "outputs": [],
   "source": [
    "def build_model(X):\n",
    "    model = Sequential()\n",
    "\n",
    "    model.add(LSTM(512,\n",
    "        input_shape=(X.shape[1],X.shape[2]),\n",
    "        return_sequences=True))\n",
    "    model.add(Dropout(0.5))\n",
    "\n",
    "    model.add(LSTM(\n",
    "        512,\n",
    "        return_sequences=False))\n",
    "    model.add(Dropout(0.5))\n",
    "\n",
    "    #model.add(Dense(1, activation = 'linear'))\n",
    "\n",
    "    #model.compile(loss=\"mse\", optimizer=\"rmsprop\")\n",
    "    \n",
    "    model.add(Dense(3, activation = 'softmax')) ############ change dense layer node number to number of baskets.\n",
    "    #Adm = keras.optimizers.Adam(lr = 0.001)\n",
    "    #model.compile(loss=\"categorical_crossentropy\", optimizer='Adam', metrics=['categorical_accuracy'])\n",
    "    model.compile(loss=\"categorical_crossentropy\", optimizer='Adam', metrics=['accuracy'])\n",
    "    \n",
    "    return model\n"
   ]
  },
  {
   "cell_type": "code",
   "execution_count": 7,
   "metadata": {},
   "outputs": [
    {
     "name": "stdout",
     "output_type": "stream",
     "text": [
      "_________________________________________________________________\n",
      "Layer (type)                 Output Shape              Param #   \n",
      "=================================================================\n",
      "lstm_1 (LSTM)                (None, 60, 512)           1060864   \n",
      "_________________________________________________________________\n",
      "dropout_1 (Dropout)          (None, 60, 512)           0         \n",
      "_________________________________________________________________\n",
      "lstm_2 (LSTM)                (None, 512)               2099200   \n",
      "_________________________________________________________________\n",
      "dropout_2 (Dropout)          (None, 512)               0         \n",
      "_________________________________________________________________\n",
      "dense_1 (Dense)              (None, 3)                 1539      \n",
      "=================================================================\n",
      "Total params: 3,161,603\n",
      "Trainable params: 3,161,603\n",
      "Non-trainable params: 0\n",
      "_________________________________________________________________\n"
     ]
    }
   ],
   "source": [
    "model = build_model(X)\n",
    "model.summary()"
   ]
  },
  {
   "cell_type": "code",
   "execution_count": 8,
   "metadata": {
    "scrolled": false
   },
   "outputs": [],
   "source": [
    "# activ_func = 'tanh'\n",
    "# dropout = 0.5\n",
    "# model = Sequential()\n",
    "# model.add(LSTM(512, return_sequences = False, input_shape=(X.shape[1],X.shape[2]), activation=activ_func))\n",
    "# model.add(Dropout(dropout))\n",
    "# # model.add(LSTM(512, return_sequences = True, activation=activ_func))\n",
    "# # model.add(Dropout(dropout))\n",
    "# # model.add(LSTM(512, activation=activ_func))\n",
    "# # model.add(Dropout(dropout))\n",
    "\n",
    "# model.add(Dense(1, activation = 'linear'))\n",
    "# #model.add(Dense(3, activation = 'softmax'))\n",
    "# Adm = keras.optimizers.Adam(lr = 0.001)\n",
    "\n",
    "# #model.compile(loss='categorical_crossentropy', optimizer=Adm, metrics=['accuracy'])\n",
    "# model.compile(loss='mean_squared_error', optimizer=Adm, metrics=['mean_squared_error'])\n",
    "# model.summary()\n",
    "\n",
    "\n",
    "# K.tensorflow_backend._get_available_gpus()\n"
   ]
  },
  {
   "cell_type": "code",
   "execution_count": 9,
   "metadata": {
    "scrolled": true
   },
   "outputs": [
    {
     "name": "stdout",
     "output_type": "stream",
     "text": [
      "Train on 649529 samples, validate on 72170 samples\n",
      "Epoch 1/4\n",
      "649529/649529 [==============================] - 863s 1ms/step - loss: 1.0432 - acc: 0.4221 - val_loss: 1.0298 - val_acc: 0.4265\n",
      "Epoch 2/4\n",
      "649529/649529 [==============================] - 840s 1ms/step - loss: 1.0339 - acc: 0.4247 - val_loss: 1.0210 - val_acc: 0.4270\n",
      "Epoch 3/4\n",
      "649529/649529 [==============================] - 841s 1ms/step - loss: 1.0297 - acc: 0.4259 - val_loss: 1.0221 - val_acc: 0.4234\n",
      "Epoch 4/4\n",
      "649529/649529 [==============================] - 842s 1ms/step - loss: 1.0353 - acc: 0.4254 - val_loss: 1.0299 - val_acc: 0.4266\n"
     ]
    }
   ],
   "source": [
    "res = model.fit(X, Y ,batch_size=512, epochs=4,verbose=1, shuffle=True,validation_split = 0.1)"
   ]
  },
  {
   "cell_type": "code",
   "execution_count": 10,
   "metadata": {},
   "outputs": [],
   "source": [
    "model.save(\"lstm.h5\")"
   ]
  },
  {
   "cell_type": "code",
   "execution_count": 11,
   "metadata": {},
   "outputs": [],
   "source": [
    "test_X = np.load(\"test_X_normalized_lstm_regression.pkl.npy\")\n",
    "test_Y = np.load(\"test_Y_normalized_lstm_regression.pkl.npy\")\n",
    "de_norm = np.load(\"de_norm.pkl.npy\")\n",
    "unnormalized_Y = np.load(\"unnormalized_Y.pkl.npy\")"
   ]
  },
  {
   "cell_type": "code",
   "execution_count": 13,
   "metadata": {},
   "outputs": [],
   "source": [
    "pred_Y = model.predict(test_X)"
   ]
  },
  {
   "cell_type": "code",
   "execution_count": 14,
   "metadata": {},
   "outputs": [
    {
     "data": {
      "text/plain": [
       "(77830, 1)"
      ]
     },
     "execution_count": 14,
     "metadata": {},
     "output_type": "execute_result"
    }
   ],
   "source": [
    "pred_Y.shape"
   ]
  },
  {
   "cell_type": "code",
   "execution_count": 15,
   "metadata": {},
   "outputs": [],
   "source": [
    "# for i in range(test_X.shape[2]):\n",
    "#     ss = StandardScaler()\n",
    "#     test_X[:,:,i] = ss.inverse_transform(test_X[:,:,i])\n",
    "de_norm = de_norm[:,3]"
   ]
  },
  {
   "cell_type": "code",
   "execution_count": 16,
   "metadata": {},
   "outputs": [],
   "source": [
    "def de_normalization(data, de_norm):\n",
    "    res = de_norm*(data+1)\n",
    "    return res"
   ]
  },
  {
   "cell_type": "code",
   "execution_count": 20,
   "metadata": {},
   "outputs": [
    {
     "data": {
      "text/plain": [
       "array([[8075.  ],\n",
       "       [8069.69],\n",
       "       [8067.21],\n",
       "       ...,\n",
       "       [7475.  ],\n",
       "       [7475.  ],\n",
       "       [7474.99]])"
      ]
     },
     "execution_count": 20,
     "metadata": {},
     "output_type": "execute_result"
    }
   ],
   "source": [
    "de_norm.reshape(de_norm.shape[0], -1)"
   ]
  },
  {
   "cell_type": "code",
   "execution_count": 24,
   "metadata": {},
   "outputs": [
    {
     "data": {
      "text/plain": [
       "array([[-0.02141422],\n",
       "       [-0.02237201],\n",
       "       [-0.0215968 ],\n",
       "       ...,\n",
       "       [-0.00993677],\n",
       "       [-0.00995627],\n",
       "       [-0.00995315]], dtype=float32)"
      ]
     },
     "execution_count": 24,
     "metadata": {},
     "output_type": "execute_result"
    }
   ],
   "source": [
    "pred_Y"
   ]
  },
  {
   "cell_type": "code",
   "execution_count": 25,
   "metadata": {},
   "outputs": [],
   "source": [
    "unnormalized_pred_Y = []\n",
    "for i in range(de_norm.shape[0]):\n",
    "    unnormalized_pred_Y.append(de_norm[i]*(pred_Y[i]+1))\n",
    "#unnormalized_pred_Y = de_norm*(pred_Y+1)"
   ]
  },
  {
   "cell_type": "code",
   "execution_count": 26,
   "metadata": {},
   "outputs": [],
   "source": [
    "unnormalized_pred_Y = np.array(unnormalized_pred_Y)"
   ]
  },
  {
   "cell_type": "code",
   "execution_count": 28,
   "metadata": {},
   "outputs": [
    {
     "data": {
      "text/plain": [
       "array([[7902.08  ],\n",
       "       [7889.155 ],\n",
       "       [7892.984 ],\n",
       "       ...,\n",
       "       [7400.7227],\n",
       "       [7400.5767],\n",
       "       [7400.591 ]], dtype=float32)"
      ]
     },
     "execution_count": 28,
     "metadata": {},
     "output_type": "execute_result"
    }
   ],
   "source": [
    "unnormalized_pred_Y"
   ]
  },
  {
   "cell_type": "code",
   "execution_count": 30,
   "metadata": {},
   "outputs": [
    {
     "data": {
      "image/png": "[encoded data removed]",
      "text/plain": [
       "<matplotlib.figure.Figure at 0x7fbf3e378d30>"
      ]
     },
     "metadata": {},
     "output_type": "display_data"
    }
   ],
   "source": [
    "import matplotlib.pyplot as plt\n",
    "t = np.arange(0,unnormalized_pred_Y.shape[0])\n",
    "plt.plot(t, unnormalized_pred_Y, unnormalized_Y)\n",
    "plt.show()"
   ]
  },
  {
   "cell_type": "code",
   "execution_count": 31,
   "metadata": {},
   "outputs": [],
   "source": [
    "# unnormalized_pred_Y\n",
    "# unnormalized_Y\n",
    "np.savetxt(\"unnormalized_pred_Y.csv\", unnormalized_pred_Y, delimiter = \",\")\n",
    "np.savetxt(\"unnormalized_Y.csv\", unnormalized_Y, delimiter = \",\")"
   ]
  },
  {
   "cell_type": "code",
   "execution_count": 32,
   "metadata": {},
   "outputs": [],
   "source": [
    "from sklearn.metrics import mean_squared_error\n",
    "\n",
    "mse = mean_squared_error(unnormalized_pred_Y, unnormalized_Y)"
   ]
  },
  {
   "cell_type": "code",
   "execution_count": 34,
   "metadata": {},
   "outputs": [
    {
     "data": {
      "text/plain": [
       "450.95214354624073"
      ]
     },
     "execution_count": 34,
     "metadata": {},
     "output_type": "execute_result"
    }
   ],
   "source": [
    "mse"
   ]
  },
  {
   "cell_type": "code",
   "execution_count": 16,
   "metadata": {},
   "outputs": [
    {
     "data": {
      "text/plain": [
       "array([[0.        , 0.        , 0.        , 0.        , 0.        ],\n",
       "       [0.        , 0.        , 0.        , 0.        , 0.        ],\n",
       "       [0.        , 0.        , 0.        , 0.        , 0.        ],\n",
       "       [0.00045998, 0.00045998, 0.00045998, 0.00045998, 0.00045998],\n",
       "       [0.00117295, 0.00117295, 0.00117295, 0.00117295, 0.00117295],\n",
       "       [0.00206992, 0.00206992, 0.00206992, 0.00206992, 0.00206992],\n",
       "       [0.00206992, 0.00206992, 0.00206992, 0.00206992, 0.00206992],\n",
       "       [0.00206992, 0.00206992, 0.00206992, 0.00206992, 0.00206992],\n",
       "       [0.00206992, 0.00206992, 0.00206992, 0.00206992, 0.00206992],\n",
       "       [0.00232291, 0.00232291, 0.00232291, 0.00232291, 0.00232291],\n",
       "       [0.0025299 , 0.0025299 , 0.0025299 , 0.0025299 , 0.0025299 ],\n",
       "       [0.00271389, 0.00271389, 0.00271389, 0.00271389, 0.00271389],\n",
       "       [0.00271389, 0.00271389, 0.00271389, 0.00271389, 0.00271389],\n",
       "       [0.00213891, 0.00213891, 0.00213891, 0.00213891, 0.00213891],\n",
       "       [0.00179393, 0.00179393, 0.00179393, 0.00179393, 0.00179393],\n",
       "       [0.00177093, 0.00177093, 0.00177093, 0.00177093, 0.00177093],\n",
       "       [0.00177093, 0.00177093, 0.00177093, 0.00177093, 0.00177093],\n",
       "       [0.00108096, 0.00108096, 0.00108096, 0.00108096, 0.00108096],\n",
       "       [0.00036799, 0.00036799, 0.00036799, 0.00036799, 0.00036799],\n",
       "       [0.00016099, 0.00016099, 0.00016099, 0.00016099, 0.00016099],\n",
       "       [0.        , 0.        , 0.        , 0.        , 0.        ],\n",
       "       [0.        , 0.        , 0.        , 0.        , 0.        ],\n",
       "       [0.00018399, 0.00018399, 0.00018399, 0.00018399, 0.00018399],\n",
       "       [0.00016099, 0.00016099, 0.00016099, 0.00016099, 0.00016099],\n",
       "       [0.00096596, 0.00096596, 0.00096596, 0.00096596, 0.00096596],\n",
       "       [0.00117295, 0.00117295, 0.00117295, 0.00117295, 0.00117295],\n",
       "       [0.00126495, 0.00126495, 0.00126495, 0.00126495, 0.00126495],\n",
       "       [0.00126495, 0.00126495, 0.00126495, 0.00126495, 0.00126495],\n",
       "       [0.00126495, 0.00126495, 0.00126495, 0.00126495, 0.00126495],\n",
       "       [0.00144894, 0.00144894, 0.00144894, 0.00144894, 0.00144894],\n",
       "       [0.00273689, 0.00273689, 0.00273689, 0.00273689, 0.00273689],\n",
       "       [0.00273689, 0.00273689, 0.00273689, 0.00273689, 0.00273689],\n",
       "       [0.00273689, 0.00273689, 0.00273689, 0.00273689, 0.00273689],\n",
       "       [0.00358786, 0.00358786, 0.00358786, 0.00358786, 0.00358786],\n",
       "       [0.00455382, 0.00455382, 0.00455382, 0.00455382, 0.00455382],\n",
       "       [0.00524379, 0.00524379, 0.00524379, 0.00524379, 0.00524379],\n",
       "       [0.0051058 , 0.0051058 , 0.0051058 , 0.0051058 , 0.0051058 ],\n",
       "       [0.0051058 , 0.0051058 , 0.0051058 , 0.0051058 , 0.0051058 ],\n",
       "       [0.00282889, 0.00282889, 0.00282889, 0.00282889, 0.00282889],\n",
       "       [0.00280589, 0.00280589, 0.00280589, 0.00280589, 0.00280589],\n",
       "       [0.00303588, 0.00303588, 0.00303588, 0.00303588, 0.00303588],\n",
       "       [0.00303588, 0.00303588, 0.00303588, 0.00303588, 0.00303588],\n",
       "       [0.00303588, 0.00303588, 0.00303588, 0.00303588, 0.00303588],\n",
       "       [0.00296688, 0.00296688, 0.00296688, 0.00296688, 0.00296688],\n",
       "       [0.00294388, 0.00294388, 0.00294388, 0.00294388, 0.00294388],\n",
       "       [0.00275989, 0.00275989, 0.00275989, 0.00275989, 0.00275989],\n",
       "       [0.00287489, 0.00287489, 0.00287489, 0.00287489, 0.00287489],\n",
       "       [0.00285189, 0.00285189, 0.00285189, 0.00285189, 0.00285189],\n",
       "       [0.0025989 , 0.0025989 , 0.0025989 , 0.0025989 , 0.0025989 ],\n",
       "       [0.00273689, 0.00273689, 0.00273689, 0.00273689, 0.00273689],\n",
       "       [0.00273689, 0.00273689, 0.00273689, 0.00273689, 0.00273689],\n",
       "       [0.00278289, 0.00278289, 0.00278289, 0.00278289, 0.00278289],\n",
       "       [0.00308188, 0.00308188, 0.00308188, 0.00308188, 0.00308188],\n",
       "       [0.00305888, 0.00305888, 0.00305888, 0.00305888, 0.00305888],\n",
       "       [0.00308188, 0.00308188, 0.00308188, 0.00308188, 0.00308188],\n",
       "       [0.0025759 , 0.0025759 , 0.0025759 , 0.0025759 , 0.0025759 ],\n",
       "       [0.00264489, 0.00264489, 0.00264489, 0.00264489, 0.00264489],\n",
       "       [0.00271389, 0.00271389, 0.00271389, 0.00271389, 0.00271389],\n",
       "       [0.00285189, 0.00285189, 0.00285189, 0.00285189, 0.00285189],\n",
       "       [0.00165593, 0.00165593, 0.00165593, 0.00165593, 0.00165593]])"
      ]
     },
     "execution_count": 16,
     "metadata": {},
     "output_type": "execute_result"
    }
   ],
   "source": [
    "X[0]"
   ]
  },
  {
   "cell_type": "code",
   "execution_count": null,
   "metadata": {},
   "outputs": [],
   "source": []
  }
 ],
 "metadata": {
  "kernelspec": {
   "display_name": "Python 3",
   "language": "python",
   "name": "python3"
  },
  "language_info": {
   "codemirror_mode": {
    "name": "ipython",
    "version": 3
   },
   "file_extension": ".py",
   "mimetype": "text/x-python",
   "name": "python",
   "nbconvert_exporter": "python",
   "pygments_lexer": "ipython3",
   "version": "3.6.4"
  }
 },
 "nbformat": 4,
 "nbformat_minor": 2
}
