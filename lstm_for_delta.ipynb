{
 "cells": [
  {
   "cell_type": "code",
   "execution_count": 1,
   "metadata": {},
   "outputs": [
    {
     "name": "stderr",
     "output_type": "stream",
     "text": [
      "/home/shared/anaconda3/lib/python3.6/site-packages/h5py/__init__.py:36: FutureWarning: Conversion of the second argument of issubdtype from `float` to `np.floating` is deprecated. In future, it will be treated as `np.float64 == np.dtype(float).type`.\n",
      "  from ._conv import register_converters as _register_converters\n",
      "Using TensorFlow backend.\n"
     ]
    }
   ],
   "source": [
    "import pickle\n",
    "import pandas\n",
    "import numpy as np\n",
    "\n",
    "import keras\n",
    "from keras.preprocessing import image\n",
    "from keras import applications\n",
    "from keras.models import Sequential\n",
    "from keras.applications import vgg16\n",
    "from keras.applications.vgg16 import VGG16\n",
    "from keras.applications.vgg16 import preprocess_input\n",
    "from keras.models import Model\n",
    "from keras.layers import Conv2D, Conv3D,Input, ZeroPadding3D, Reshape,LSTM\n",
    "from keras.layers.convolutional import Convolution2D, Convolution3D, MaxPooling2D, ZeroPadding2D,ZeroPadding3D \n",
    "from keras.layers.core import Reshape\n",
    "import os\n",
    "from keras.utils import np_utils\n",
    "from keras.preprocessing.image import ImageDataGenerator\n",
    "from keras.models import Sequential\n",
    "from keras.callbacks import CSVLogger\n",
    "from keras.models import Sequential\n",
    "from keras.layers.core import Flatten, Dense, Dropout\n",
    "from keras.optimizers import SGD\n",
    "from keras.layers import Merge \n",
    "import numpy as np\n",
    "import keras\n",
    "import keras.backend as K\n",
    "from keras.callbacks import ModelCheckpoint\n",
    "from keras.callbacks import LambdaCallback\n",
    "from keras import regularizers\n",
    "from keras import backend as K\n",
    "from keras.models import load_model\n",
    "from sklearn.metrics import mean_squared_error"
   ]
  },
  {
   "cell_type": "code",
   "execution_count": 2,
   "metadata": {},
   "outputs": [],
   "source": [
    "X = np.load(\"train_X_normalized_lstm_delta.pkl.npy\")\n",
    "Y = np.load(\"train_Y_normalized_lstm_delta.pkl.npy\")\n",
    "X_test = np.load(\"test_X_normalized_lstm_delta.pkl.npy\")\n",
    "Y_test = np.load(\"test_Y_normalized_lstm_delta.pkl.npy\")\n",
    "# de_norm_test = np.load(\"de_norm_lstm_delta_test.pkl.npy\")\n",
    "# unnormalized_Y = np.load(\"unnormalized_Y_test_v2.pkl.npy\")\n",
    "# Y_reg = np.load(\"test_Y_normalized_lstm_regression_v2.pkl.npy\")\n",
    "# X = np.load(\"train_X_normalized_lstm_classification.pkl.npy\")\n",
    "# Y = np.load(\"train_Y_normalized_lstm_classification.pkl.npy\")"
   ]
  },
  {
   "cell_type": "code",
   "execution_count": 89,
   "metadata": {
    "scrolled": true
   },
   "outputs": [
    {
     "name": "stdout",
     "output_type": "stream",
     "text": [
      "(155661, 5)\n",
      "(155661,)\n"
     ]
    }
   ],
   "source": [
    "print(de_norm_test.shape)\n",
    "de_norm_test=de_norm_test[:,3]\n",
    "de_norm_test.reshape(de_norm_test.shape[0], -1)\n",
    "print(de_norm_test.shape)"
   ]
  },
  {
   "cell_type": "code",
   "execution_count": 90,
   "metadata": {},
   "outputs": [],
   "source": [
    "X = X.reshape(X.shape[0], X.shape[1], -1)\n",
    "X_test = X_test.reshape(X_test.shape[0], X_test.shape[1], -1)"
   ]
  },
  {
   "cell_type": "code",
   "execution_count": 91,
   "metadata": {},
   "outputs": [
    {
     "name": "stdout",
     "output_type": "stream",
     "text": [
      "[ 435.51  435.5   435.68 ... 7381.06 7394.99 7398.  ]\n"
     ]
    }
   ],
   "source": [
    "print(unnormalized_Y)"
   ]
  },
  {
   "cell_type": "code",
   "execution_count": 86,
   "metadata": {},
   "outputs": [],
   "source": [
    "def mse_pred(y_true,y_pred, de_norm_test, de_norm_flag):\n",
    "    se = 0\n",
    "    categories = np.array([-0.15, -0.075, -0.03,-0.005,0.005,0.03,0.075,0.15])\n",
    "    if de_norm_flag:\n",
    "        pred = de_norm_test*(categories[np.argmax(y_pred,axis = 1)]+1)\n",
    "    else:\n",
    "        pred = categories[np.argmax(y_pred,axis = 1)]\n",
    "    mse = mean_squared_error(y_true, pred)\n",
    "    print(\"mean squared error equivalent in test set is\", mse)\n",
    "    return mse,pred\n"
   ]
  },
  {
   "cell_type": "code",
   "execution_count": 3,
   "metadata": {},
   "outputs": [],
   "source": [
    "def build_model(X):\n",
    "    model = Sequential()\n",
    "\n",
    "    model.add(LSTM(512,\n",
    "        input_shape=(X.shape[1],X.shape[2]),\n",
    "        return_sequences=True))\n",
    "    model.add(Dropout(0.2))\n",
    "\n",
    "    model.add(LSTM(\n",
    "        512,\n",
    "        return_sequences=False))\n",
    "    model.add(Dropout(0.2))\n",
    "\n",
    "    model.add(Dense(3, activation = 'softmax')) ############ change dense layer node number to number of baskets.\n",
    "    #Adm = keras.optimizers.Adam(lr = 0.001)\n",
    "    #model.compile(loss=\"categorical_crossentropy\", optimizer='Adam', metrics=['categorical_accuracy'])\n",
    "    model.compile(loss=\"categorical_crossentropy\", optimizer='sgd', metrics=['accuracy'])\n",
    "    # K.tensorflow_backend._get_available_gpus()\n",
    "    return model\n"
   ]
  },
  {
   "cell_type": "code",
   "execution_count": 4,
   "metadata": {},
   "outputs": [
    {
     "name": "stdout",
     "output_type": "stream",
     "text": [
      "_________________________________________________________________\n",
      "Layer (type)                 Output Shape              Param #   \n",
      "=================================================================\n",
      "lstm_1 (LSTM)                (None, 60, 512)           1060864   \n",
      "_________________________________________________________________\n",
      "dropout_1 (Dropout)          (None, 60, 512)           0         \n",
      "_________________________________________________________________\n",
      "lstm_2 (LSTM)                (None, 512)               2099200   \n",
      "_________________________________________________________________\n",
      "dropout_2 (Dropout)          (None, 512)               0         \n",
      "_________________________________________________________________\n",
      "dense_1 (Dense)              (None, 3)                 1539      \n",
      "=================================================================\n",
      "Total params: 3,161,603\n",
      "Trainable params: 3,161,603\n",
      "Non-trainable params: 0\n",
      "_________________________________________________________________\n",
      "Train on 700471 samples, validate on 77831 samples\n",
      "Epoch 1/8\n",
      "700471/700471 [==============================] - 938s 1ms/step - loss: 0.7126 - acc: 0.5679 - val_loss: 0.6845 - val_acc: 0.5697\n",
      "Epoch 2/8\n",
      "700471/700471 [==============================] - 919s 1ms/step - loss: 0.6861 - acc: 0.5676 - val_loss: 0.6850 - val_acc: 0.5697\n",
      "Epoch 3/8\n",
      "700471/700471 [==============================] - 919s 1ms/step - loss: 0.6856 - acc: 0.5683 - val_loss: 0.6841 - val_acc: 0.5697\n",
      "Epoch 4/8\n",
      "700471/700471 [==============================] - 919s 1ms/step - loss: 0.6853 - acc: 0.5686 - val_loss: 0.6838 - val_acc: 0.5697\n",
      "Epoch 5/8\n",
      "700471/700471 [==============================] - 919s 1ms/step - loss: 0.6850 - acc: 0.5689 - val_loss: 0.6845 - val_acc: 0.5697\n",
      "Epoch 6/8\n",
      "700471/700471 [==============================] - 919s 1ms/step - loss: 0.6849 - acc: 0.5690 - val_loss: 0.6837 - val_acc: 0.5697\n",
      "Epoch 7/8\n",
      "700471/700471 [==============================] - 919s 1ms/step - loss: 0.6847 - acc: 0.5690 - val_loss: 0.6837 - val_acc: 0.5697\n",
      "Epoch 8/8\n",
      "700471/700471 [==============================] - 919s 1ms/step - loss: 0.6845 - acc: 0.5690 - val_loss: 0.6837 - val_acc: 0.5697\n"
     ]
    }
   ],
   "source": [
    "model = build_model(X)\n",
    "model.summary()\n",
    "res = model.fit(X, Y,batch_size=512, epochs=8,verbose=1, shuffle=True,validation_split = 0.1)"
   ]
  },
  {
   "cell_type": "code",
   "execution_count": 92,
   "metadata": {
    "scrolled": false
   },
   "outputs": [
    {
     "name": "stdout",
     "output_type": "stream",
     "text": [
      "Epoch  0 to 3\n",
      "mean squared error equivalent in test set is 624235.1512619245\n"
     ]
    }
   ],
   "source": [
    "# load previous model\n",
    "#model = load_model('lstm_delta.h5')\n",
    "model = load_model('lstm_1_delta.h5')\n",
    "n = 3 # number of epochs before test\n",
    "\n",
    "for e in range(1):\n",
    "    print(\"Epoch \",e,\"to\",e+n)\n",
    "    # train\n",
    "    #res = model.fit(X, Y,batch_size=512, epochs=n,verbose=1, shuffle=True,validation_split = 0.1)\n",
    "\n",
    "    # evaluate on test set, print [loss, accuracy]\n",
    "    #test_result = model.evaluate(X_test, Y_test)\n",
    "    #print(test_result)\n",
    "    \n",
    "    # evaluate on test set again, print equivalent\n",
    "    #Y_pred = model.predict(X_test)\n",
    "    mse,pred = mse_pred(unnormalized_Y,Y_pred,de_norm_test,True)\n",
    "    #mse,pred = mse_pred(Y_reg,Y_pred,de_norm_test,False)\n",
    "    "
   ]
  },
  {
   "cell_type": "code",
   "execution_count": 51,
   "metadata": {},
   "outputs": [],
   "source": [
    "model.save(\"lstm_1_delta.h5\")"
   ]
  },
  {
   "cell_type": "code",
   "execution_count": 93,
   "metadata": {},
   "outputs": [
    {
     "data": {
      "image/png": "[encoded data removed]",
      "text/plain": [
       "<matplotlib.figure.Figure at 0x7fadb5267518>"
      ]
     },
     "metadata": {},
     "output_type": "display_data"
    }
   ],
   "source": [
    "import matplotlib.pyplot as plt\n",
    "t = np.arange(0,pred.shape[0])\n",
    "plt.plot(t, pred, unnormalized_Y)\n",
    "plt.show()"
   ]
  },
  {
   "cell_type": "code",
   "execution_count": null,
   "metadata": {},
   "outputs": [],
   "source": []
  }
 ],
 "metadata": {
  "kernelspec": {
   "display_name": "Python 3",
   "language": "python",
   "name": "python3"
  },
  "language_info": {
   "codemirror_mode": {
    "name": "ipython",
    "version": 3
   },
   "file_extension": ".py",
   "mimetype": "text/x-python",
   "name": "python",
   "nbconvert_exporter": "python",
   "pygments_lexer": "ipython3",
   "version": "3.6.4"
  }
 },
 "nbformat": 4,
 "nbformat_minor": 2
}
