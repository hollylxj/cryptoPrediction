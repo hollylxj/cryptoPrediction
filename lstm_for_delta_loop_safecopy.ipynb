{
 "cells": [
  {
   "cell_type": "code",
   "execution_count": 1,
   "metadata": {},
   "outputs": [
    {
     "name": "stderr",
     "output_type": "stream",
     "text": [
      "/home/shared/anaconda3/lib/python3.6/site-packages/h5py/__init__.py:36: FutureWarning: Conversion of the second argument of issubdtype from `float` to `np.floating` is deprecated. In future, it will be treated as `np.float64 == np.dtype(float).type`.\n",
      "  from ._conv import register_converters as _register_converters\n",
      "Using TensorFlow backend.\n"
     ]
    }
   ],
   "source": [
    "import pickle\n",
    "import pandas\n",
    "import numpy as np\n",
    "from datetime import datetime\n",
    "import math\n",
    "\n",
    "import keras\n",
    "from keras.preprocessing import image\n",
    "from keras import applications\n",
    "from keras.models import Sequential\n",
    "from keras.applications import vgg16\n",
    "from keras.applications.vgg16 import VGG16\n",
    "from keras.applications.vgg16 import preprocess_input\n",
    "from keras.models import Model\n",
    "from keras.layers import Conv2D, Conv3D,Input, ZeroPadding3D, Reshape,LSTM\n",
    "from keras.layers.convolutional import Convolution2D, Convolution3D, MaxPooling2D, ZeroPadding2D,ZeroPadding3D \n",
    "from keras.layers.core import Reshape\n",
    "import os\n",
    "from keras.utils import np_utils\n",
    "from keras.preprocessing.image import ImageDataGenerator\n",
    "from keras.models import Sequential\n",
    "from keras.callbacks import CSVLogger\n",
    "from keras.models import Sequential\n",
    "from keras.layers.core import Flatten, Dense, Dropout\n",
    "from keras.optimizers import SGD\n",
    "from keras.layers import Merge \n",
    "import numpy as np\n",
    "import keras\n",
    "import keras.backend as K\n",
    "from keras.callbacks import LambdaCallback\n",
    "from keras import regularizers\n",
    "from keras.models import load_model\n",
    "from sklearn.metrics import mean_squared_error\n",
    "from keras.callbacks import ModelCheckpoint\n",
    "from sklearn.preprocessing import StandardScaler\n",
    "from sklearn.linear_model import LogisticRegression\n",
    "from sklearn.linear_model import SGDClassifier"
   ]
  },
  {
   "cell_type": "code",
   "execution_count": 2,
   "metadata": {},
   "outputs": [],
   "source": [
    "# X = np.load(\"train_X_normalized_lstm_delta.pkl.npy\")\n",
    "# Y = np.load(\"train_Y_normalized_lstm_delta.pkl.npy\")\n",
    "# X_test = np.load(\"test_X_normalized_lstm_delta.pkl.npy\")\n",
    "# Y_test = np.load(\"test_Y_normalized_lstm_delta.pkl.npy\")\n",
    "\n",
    "# de_norm_test = np.load(\"de_norm_lstm_delta_test.pkl.npy\")\n",
    "# unnormalized_Y = np.load(\"unnormalized_Y_test_v2.pkl.npy\")\n",
    "# Y_reg = np.load(\"test_Y_normalized_lstm_regression_v2.pkl.npy\")\n",
    "# X = np.load(\"train_X_normalized_lstm_classification.pkl.npy\")\n",
    "# Y = np.load(\"train_Y_normalized_lstm_classification.pkl.npy\")"
   ]
  },
  {
   "cell_type": "code",
   "execution_count": 3,
   "metadata": {},
   "outputs": [
    {
     "name": "stdout",
     "output_type": "stream",
     "text": [
      "# of all y: (810567,)\n",
      "# of positive y: (349583,)\n",
      "# of negative y: (316705,)\n"
     ]
    }
   ],
   "source": [
    "## Preprocessing\n",
    "Inf = math.inf\n",
    "with open('BTC-USD-60.pkl', 'rb') as f:\n",
    "    data = pickle.load(f)\n",
    "\n",
    "# sort the data based on ascending-order of time\n",
    "data = data.sort_values(by=['time'])\n",
    "\n",
    "# save the original valuse for the fulture delta calculation\n",
    "data_original = data\n",
    "data_original = data_original[data_original.close > 200]\n",
    "close_price = np.array(data_original.close)\n",
    "\n",
    "# drop time\n",
    "data = data[data.close > 200]\n",
    "time = np.array(data.time)\n",
    "data = data.drop('time', 1)\n",
    "\n",
    "# get all delta y's\n",
    "y_distribution = []\n",
    "for i in range(len(close_price) - 60):       \n",
    "    if time[i+60] - time[i] == 60*60:\n",
    "          y_distribution.append( (close_price[i + 60] - close_price[i + 59]) / close_price[i + 59] * 100)  \n",
    "\n",
    "# since <0 and >0 buckets are not symetrical, we can do it separately\n",
    "y_distribution = sorted(y_distribution)\n",
    "print(\"# of all y:\",np.shape(y_distribution))\n",
    "y_distribution = list(filter(lambda a: a != 0, y_distribution))\n",
    "y_pos = list(filter(lambda a: a > 0, y_distribution))\n",
    "print(\"# of positive y:\",np.shape(y_pos))\n",
    "y_neg = list(filter(lambda a: a <0, y_distribution))\n",
    "print(\"# of negative y:\",np.shape(y_neg))"
   ]
  },
  {
   "cell_type": "code",
   "execution_count": 19,
   "metadata": {},
   "outputs": [],
   "source": [
    "\n",
    "def normalize_windows(window_data):\n",
    "    window_data = (window_data / window_data[0]) - 1 \n",
    "    return window_data\n",
    "\n",
    "def switch(delta,train_Y,buckets):# separate y values according to bucket separating values and put Y in corresponding bucket\n",
    "    temp = [0]*len(buckets)\n",
    "    if delta == 0:\n",
    "        temp[len(buckets)//2] = 1\n",
    "\n",
    "    else:    \n",
    "        for i in range(len(buckets)-1):\n",
    "            if delta >= buckets[i] and delta < buckets[i+1]:\n",
    "                # because ==0 itself is a bucket, all >0 buckets will need index+1\n",
    "                if delta > 0:\n",
    "                    temp[i+1] = 1\n",
    "                if delta < 0:\n",
    "                    temp[i] = 1\n",
    "                \n",
    "    train_Y.append(temp)\n",
    "    return train_Y\n",
    "\n",
    "\n",
    "# Recursively get bucket separating values\n",
    "def bucket_separate(nBuckets,bucket_list,y_distribution):\n",
    "    mid = len(y_distribution)//2 # median index of input y_distribution list\n",
    "    if nBuckets % 2 == 1:\n",
    "        print(\"number of buckets must be (2^n+1) greater than 3\")\n",
    "\n",
    "    elif nBuckets == 2:\n",
    "        bucket_list.append(y_distribution[mid])\n",
    "\n",
    "    else:\n",
    "        bucket_list.append(y_distribution[mid])\n",
    "        bucket_list = bucket_separate(nBuckets/2,bucket_list,y_distribution[:mid])#left\n",
    "        bucket_list = bucket_separate(nBuckets/2,bucket_list,y_distribution[mid:])#right\n",
    "    bucket_list = sorted(bucket_list)\n",
    "\n",
    "    return bucket_list\n",
    "\n",
    "def lstm_preprocess(data, close_price, time, bucket_list,test_pct):\n",
    "    window_length = 60\n",
    "    A = np.array(data.low)\n",
    "    B = np.array(data.high)\n",
    "    C = np.array(data.open)\n",
    "    D = np.array(data.close)\n",
    "    E = np.array(data.volume)\n",
    "    i = 0\n",
    "    train_X = []\n",
    "    train_Y = []\n",
    "    test_X = []\n",
    "    test_Y = []\n",
    "    true_Y_test = []\n",
    "    de_norm_train = []\n",
    "    de_norm_test = []\n",
    "    error = 0\n",
    "    \n",
    "\n",
    "    \n",
    "    while i < len(C) - window_length:\n",
    "         \n",
    "        if time[i+window_length] - time[i] == window_length*60:\n",
    "            temp = []\n",
    "            copy_A = np.copy(A[i:i+window_length+1])\n",
    "            copy_B = np.copy(B[i:i+window_length+1])\n",
    "            copy_C = np.copy(C[i:i+window_length+1])\n",
    "            copy_D = np.copy(D[i:i+window_length+1])\n",
    "            copy_E = np.copy(E[i:i+window_length+1])\n",
    "             \n",
    "            normalized_temp_A = normalize_windows(copy_A)\n",
    "            normalized_temp_B = normalize_windows(copy_A)\n",
    "            normalized_temp_C = normalize_windows(copy_A)\n",
    "            normalized_temp_D = normalize_windows(copy_A)\n",
    "            normalized_temp_E = normalize_windows(copy_A)\n",
    "            #print(len(normalized_temp_D[:-1]))\n",
    "            temp.append(normalized_temp_A[:-1])\n",
    "            temp.append(normalized_temp_B[:-1])\n",
    "            temp.append(normalized_temp_C[:-1])\n",
    "            temp.append(normalized_temp_D[:-1])\n",
    "            temp.append(normalized_temp_E[:-1])\n",
    "#         temp.append(year[i:i+60])\n",
    "#         temp.append(hour[i:i+60])\n",
    "            \n",
    "            delta = (close_price[i + 60] - close_price[i + 59]) / close_price[i + 59] * 100\n",
    "            \n",
    "            # percentage of test\n",
    "            if test_pct == 0:\n",
    "                test = Inf\n",
    "            else:\n",
    "                test = (1/test_pct)\n",
    "            if i%test == 0 :\n",
    "                test_X.append(temp)\n",
    "                true_Y_test.append(close_price[i + 60])\n",
    "                # like switch command in C, decide which bucket we should label.\n",
    "                test_Y = switch(delta,test_Y,bucket_list)\n",
    "                de_norm_test.append([copy_A[0], copy_B[0], copy_C[0], copy_D[0], copy_E[0]])\n",
    "                \n",
    "            else:\n",
    "                train_X.append(temp)                       \n",
    "                # like switch command in C, decide which bucket we should label.\n",
    "                train_Y = switch(delta,train_Y,bucket_list)\n",
    "                de_norm_train.append([copy_A[0], copy_B[0], copy_C[0], copy_D[0], copy_E[0]])\n",
    "            i += 1\n",
    "        else:\n",
    "            i = i + 60\n",
    "    \n",
    "    \n",
    "    \n",
    "\n",
    "        \n",
    "    train_X = np.transpose(train_X, (0,2,1))   \n",
    "    train_X = train_X.reshape(train_X.shape[0], train_X.shape[1], -1)    \n",
    "    train_Y = np.array(train_Y)\n",
    "    # transform testsets if they are not empty!\n",
    "    if test_pct != 0:\n",
    "        test_X = np.transpose(test_X, (0,2,1))\n",
    "        test_X = test_X.reshape(test_X.shape[0], test_X.shape[1], -1)\n",
    "        test_Y = np.array(test_Y)\n",
    "        de_norm_test = np.array(de_norm_test)\n",
    "        de_norm_test=de_norm_test[:,3]\n",
    "        de_norm_test.reshape(de_norm_test.shape[0], -1)\n",
    "    \n",
    "    return train_X, train_Y, test_X, test_Y, de_norm_train, de_norm_test, true_Y_test\n"
   ]
  },
  {
   "cell_type": "code",
   "execution_count": 5,
   "metadata": {},
   "outputs": [],
   "source": [
    "# # test if bucket separation is working\n",
    "# nBuckets = 33\n",
    "\n",
    "# buckets = bucket_separate((nBuckets-1)/2,[-Inf,0,Inf],y_neg)\n",
    "# buckets = bucket_separate((nBuckets-1)/2,buckets,y_pos)\n",
    "\n",
    "# print(buckets)\n",
    "\n",
    "# train_X, train_Y, test_X, test_Y, de_norm_train, de_norm_test, true_Y_test = lstm_preprocess(data, close_price, time, buckets)\n",
    "# count = np.sum(train_Y,axis = 0)\n",
    "# print(count)"
   ]
  },
  {
   "cell_type": "code",
   "execution_count": 12,
   "metadata": {},
   "outputs": [],
   "source": [
    "def mse_pred(y_true,y_pred, de_norm_test, de_norm_flag, baskets):\n",
    "    se = 0\n",
    "    # change -inf and inf into min and max, as boundaries.\n",
    "    baskets[0] = np.min(y_neg) \n",
    "    baskets[-1]= np.max(y_pos)\n",
    "    nBuckets = len(baskets)\n",
    "    \n",
    "    #categories is a vector containing the mid points of each bucket\n",
    "    categories = np.array(baskets) #=0\n",
    "    for i in range(nBuckets//2): #<0\n",
    "        categories[i] = (baskets[i]+baskets[i+1])/2\n",
    "    for i in range((nBuckets+1)//2,nBuckets-1): #>0\n",
    "        categories[i] = (baskets[i]+baskets[i+1])/2\n",
    "        \n",
    "    #de_norm_flag is to set whether or not to convert to original value     \n",
    "    if de_norm_flag:\n",
    "        pred = de_norm_test*(categories[np.argmax(y_pred,axis = 1)]+1)\n",
    "    else:\n",
    "        pred = categories[np.argmax(y_pred,axis = 1)]\n",
    "    mse = np.sum(abs(1-pred/y_true)**2)\n",
    "    print(\"mean squared error equivalent in test set is\", mse)\n",
    "    return mse,pred\n"
   ]
  },
  {
   "cell_type": "code",
   "execution_count": 7,
   "metadata": {},
   "outputs": [],
   "source": [
    "def build_model(X,nBuckets):\n",
    "    model = Sequential()\n",
    "\n",
    "    model.add(LSTM(512,\n",
    "        input_shape=(X.shape[1],X.shape[2]),\n",
    "        return_sequences=True))\n",
    "    model.add(Dropout(0.2))\n",
    "\n",
    "    model.add(LSTM(\n",
    "        512,\n",
    "        return_sequences=False))\n",
    "    model.add(Dropout(0.2))\n",
    "\n",
    "    model.add(Dense(nBuckets, activation = 'softmax')) ############ change dense layer node number to number of baskets.\n",
    "    #Adm = keras.optimizers.Adam(lr = 0.001)\n",
    "    #model.compile(loss=\"categorical_crossentropy\", optimizer='Adam', metrics=['categorical_accuracy'])\n",
    "    model.compile(loss=\"categorical_crossentropy\", optimizer='sgd', metrics=['accuracy'])\n",
    "    # K.tensorflow_backend._get_available_gpus()\n",
    "    return model\n"
   ]
  },
  {
   "cell_type": "code",
   "execution_count": 29,
   "metadata": {},
   "outputs": [
    {
     "name": "stdout",
     "output_type": "stream",
     "text": [
      "[-inf, -0.1923474663909011, -0.10179765402679075, -0.058860596080899344, -0.03402089721958688, -0.01686156201865129, -0.005816104094304639, -0.00136163723260725, 0, 0.0014415609221652109, 0.006531891962501, 0.016997151606364908, 0.032631727443852246, 0.05479735318444713, 0.09217391304347498, 0.17092387418368465, inf]\n",
      "[[0, 0, 0, 0, 0, 1, 0, 0, 0, 0, 0, 0, 0, 0, 0, 0, 0]]\n"
     ]
    }
   ],
   "source": [
    "# # Test switch function\n",
    "# nBuckets = 17\n",
    "# bucket_list = bucket_separate((nBuckets-1)/2,[-Inf,0,Inf],y_neg)\n",
    "# bucket_list = bucket_separate((nBuckets-1)/2,bucket_list,y_pos)\n",
    "# print(bucket_list)\n",
    "# #train_X, train_Y, test_X, test_Y, de_norm_train, de_norm_test, true_Y_test = lstm_preprocess(data, close_price, time, nBucket)\n",
    "# y = []\n",
    "# y = switch(-0.015,[],bucket_list)\n",
    "# print(y)"
   ]
  },
  {
   "cell_type": "code",
   "execution_count": 20,
   "metadata": {},
   "outputs": [
    {
     "name": "stdout",
     "output_type": "stream",
     "text": [
      "nBuckets: 3\n",
      "[-inf, 0, inf]\n",
      "_________________________________________________________________\n",
      "Layer (type)                 Output Shape              Param #   \n",
      "=================================================================\n",
      "lstm_5 (LSTM)                (None, 60, 512)           1060864   \n",
      "_________________________________________________________________\n",
      "dropout_5 (Dropout)          (None, 60, 512)           0         \n",
      "_________________________________________________________________\n",
      "lstm_6 (LSTM)                (None, 512)               2099200   \n",
      "_________________________________________________________________\n",
      "dropout_6 (Dropout)          (None, 512)               0         \n",
      "_________________________________________________________________\n",
      "dense_3 (Dense)              (None, 3)                 1539      \n",
      "=================================================================\n",
      "Total params: 3,161,603\n",
      "Trainable params: 3,161,603\n",
      "Non-trainable params: 0\n",
      "_________________________________________________________________\n",
      "Train on 700471 samples, validate on 77831 samples\n",
      "Epoch 1/5\n",
      "700471/700471 [==============================] - 905s 1ms/step - loss: 1.0410 - acc: 0.4309 - val_loss: 1.0309 - val_acc: 0.4303\n",
      "Epoch 2/5\n",
      "483328/700471 [===================>..........] - ETA: 4:30 - loss: 1.0389 - acc: 0.4301"
     ]
    },
    {
     "ename": "KeyboardInterrupt",
     "evalue": "",
     "output_type": "error",
     "traceback": [
      "\u001b[0;31m------------------------------------------------------------------------\u001b[0m",
      "\u001b[0;31mKeyboardInterrupt\u001b[0m                      Traceback (most recent call last)",
      "\u001b[0;32m<ipython-input-20-fe036ba61389>\u001b[0m in \u001b[0;36m<module>\u001b[0;34m()\u001b[0m\n\u001b[1;32m     15\u001b[0m     \u001b[0mmodel\u001b[0m \u001b[0;34m=\u001b[0m \u001b[0mbuild_model\u001b[0m\u001b[0;34m(\u001b[0m\u001b[0mtrain_X\u001b[0m\u001b[0;34m,\u001b[0m\u001b[0mnBuckets\u001b[0m\u001b[0;34m)\u001b[0m\u001b[0;34m\u001b[0m\u001b[0m\n\u001b[1;32m     16\u001b[0m     \u001b[0mmodel\u001b[0m\u001b[0;34m.\u001b[0m\u001b[0msummary\u001b[0m\u001b[0;34m(\u001b[0m\u001b[0;34m)\u001b[0m\u001b[0;34m\u001b[0m\u001b[0m\n\u001b[0;32m---> 17\u001b[0;31m     \u001b[0mres\u001b[0m \u001b[0;34m=\u001b[0m \u001b[0mmodel\u001b[0m\u001b[0;34m.\u001b[0m\u001b[0mfit\u001b[0m\u001b[0;34m(\u001b[0m\u001b[0mtrain_X\u001b[0m\u001b[0;34m,\u001b[0m \u001b[0mtrain_Y\u001b[0m\u001b[0;34m,\u001b[0m\u001b[0mbatch_size\u001b[0m\u001b[0;34m=\u001b[0m\u001b[0;36m512\u001b[0m\u001b[0;34m,\u001b[0m \u001b[0mepochs\u001b[0m\u001b[0;34m=\u001b[0m\u001b[0;36m5\u001b[0m\u001b[0;34m,\u001b[0m\u001b[0mverbose\u001b[0m\u001b[0;34m=\u001b[0m\u001b[0;36m1\u001b[0m\u001b[0;34m,\u001b[0m \u001b[0mshuffle\u001b[0m\u001b[0;34m=\u001b[0m\u001b[0;32mTrue\u001b[0m\u001b[0;34m,\u001b[0m\u001b[0mvalidation_split\u001b[0m \u001b[0;34m=\u001b[0m \u001b[0;36m0.1\u001b[0m\u001b[0;34m)\u001b[0m\u001b[0;34m\u001b[0m\u001b[0m\n\u001b[0m\u001b[1;32m     18\u001b[0m \u001b[0;34m\u001b[0m\u001b[0m\n\u001b[1;32m     19\u001b[0m     \u001b[0;31m# evaluate on test set, print [loss, accuracy]\u001b[0m\u001b[0;34m\u001b[0m\u001b[0;34m\u001b[0m\u001b[0m\n",
      "\u001b[0;32m/home/shared/anaconda3/lib/python3.6/site-packages/keras/models.py\u001b[0m in \u001b[0;36mfit\u001b[0;34m(self, x, y, batch_size, epochs, verbose, callbacks, validation_split, validation_data, shuffle, class_weight, sample_weight, initial_epoch, steps_per_epoch, validation_steps, **kwargs)\u001b[0m\n\u001b[1;32m    961\u001b[0m                               \u001b[0minitial_epoch\u001b[0m\u001b[0;34m=\u001b[0m\u001b[0minitial_epoch\u001b[0m\u001b[0;34m,\u001b[0m\u001b[0;34m\u001b[0m\u001b[0m\n\u001b[1;32m    962\u001b[0m                               \u001b[0msteps_per_epoch\u001b[0m\u001b[0;34m=\u001b[0m\u001b[0msteps_per_epoch\u001b[0m\u001b[0;34m,\u001b[0m\u001b[0;34m\u001b[0m\u001b[0m\n\u001b[0;32m--> 963\u001b[0;31m                               validation_steps=validation_steps)\n\u001b[0m\u001b[1;32m    964\u001b[0m \u001b[0;34m\u001b[0m\u001b[0m\n\u001b[1;32m    965\u001b[0m     def evaluate(self, x=None, y=None,\n",
      "\u001b[0;32m/home/shared/anaconda3/lib/python3.6/site-packages/keras/engine/training.py\u001b[0m in \u001b[0;36mfit\u001b[0;34m(self, x, y, batch_size, epochs, verbose, callbacks, validation_split, validation_data, shuffle, class_weight, sample_weight, initial_epoch, steps_per_epoch, validation_steps, **kwargs)\u001b[0m\n\u001b[1;32m   1703\u001b[0m                               \u001b[0minitial_epoch\u001b[0m\u001b[0;34m=\u001b[0m\u001b[0minitial_epoch\u001b[0m\u001b[0;34m,\u001b[0m\u001b[0;34m\u001b[0m\u001b[0m\n\u001b[1;32m   1704\u001b[0m                               \u001b[0msteps_per_epoch\u001b[0m\u001b[0;34m=\u001b[0m\u001b[0msteps_per_epoch\u001b[0m\u001b[0;34m,\u001b[0m\u001b[0;34m\u001b[0m\u001b[0m\n\u001b[0;32m-> 1705\u001b[0;31m                               validation_steps=validation_steps)\n\u001b[0m\u001b[1;32m   1706\u001b[0m \u001b[0;34m\u001b[0m\u001b[0m\n\u001b[1;32m   1707\u001b[0m     def evaluate(self, x=None, y=None,\n",
      "\u001b[0;32m/home/shared/anaconda3/lib/python3.6/site-packages/keras/engine/training.py\u001b[0m in \u001b[0;36m_fit_loop\u001b[0;34m(self, f, ins, out_labels, batch_size, epochs, verbose, callbacks, val_f, val_ins, shuffle, callback_metrics, initial_epoch, steps_per_epoch, validation_steps)\u001b[0m\n\u001b[1;32m   1233\u001b[0m                         \u001b[0mins_batch\u001b[0m\u001b[0;34m[\u001b[0m\u001b[0mi\u001b[0m\u001b[0;34m]\u001b[0m \u001b[0;34m=\u001b[0m \u001b[0mins_batch\u001b[0m\u001b[0;34m[\u001b[0m\u001b[0mi\u001b[0m\u001b[0;34m]\u001b[0m\u001b[0;34m.\u001b[0m\u001b[0mtoarray\u001b[0m\u001b[0;34m(\u001b[0m\u001b[0;34m)\u001b[0m\u001b[0;34m\u001b[0m\u001b[0m\n\u001b[1;32m   1234\u001b[0m \u001b[0;34m\u001b[0m\u001b[0m\n\u001b[0;32m-> 1235\u001b[0;31m                     \u001b[0mouts\u001b[0m \u001b[0;34m=\u001b[0m \u001b[0mf\u001b[0m\u001b[0;34m(\u001b[0m\u001b[0mins_batch\u001b[0m\u001b[0;34m)\u001b[0m\u001b[0;34m\u001b[0m\u001b[0m\n\u001b[0m\u001b[1;32m   1236\u001b[0m                     \u001b[0;32mif\u001b[0m \u001b[0;32mnot\u001b[0m \u001b[0misinstance\u001b[0m\u001b[0;34m(\u001b[0m\u001b[0mouts\u001b[0m\u001b[0;34m,\u001b[0m \u001b[0mlist\u001b[0m\u001b[0;34m)\u001b[0m\u001b[0;34m:\u001b[0m\u001b[0;34m\u001b[0m\u001b[0m\n\u001b[1;32m   1237\u001b[0m                         \u001b[0mouts\u001b[0m \u001b[0;34m=\u001b[0m \u001b[0;34m[\u001b[0m\u001b[0mouts\u001b[0m\u001b[0;34m]\u001b[0m\u001b[0;34m\u001b[0m\u001b[0m\n",
      "\u001b[0;32m/home/shared/anaconda3/lib/python3.6/site-packages/keras/backend/tensorflow_backend.py\u001b[0m in \u001b[0;36m__call__\u001b[0;34m(self, inputs)\u001b[0m\n\u001b[1;32m   2476\u001b[0m         \u001b[0msession\u001b[0m \u001b[0;34m=\u001b[0m \u001b[0mget_session\u001b[0m\u001b[0;34m(\u001b[0m\u001b[0;34m)\u001b[0m\u001b[0;34m\u001b[0m\u001b[0m\n\u001b[1;32m   2477\u001b[0m         updated = session.run(fetches=fetches, feed_dict=feed_dict,\n\u001b[0;32m-> 2478\u001b[0;31m                               **self.session_kwargs)\n\u001b[0m\u001b[1;32m   2479\u001b[0m         \u001b[0;32mreturn\u001b[0m \u001b[0mupdated\u001b[0m\u001b[0;34m[\u001b[0m\u001b[0;34m:\u001b[0m\u001b[0mlen\u001b[0m\u001b[0;34m(\u001b[0m\u001b[0mself\u001b[0m\u001b[0;34m.\u001b[0m\u001b[0moutputs\u001b[0m\u001b[0;34m)\u001b[0m\u001b[0;34m]\u001b[0m\u001b[0;34m\u001b[0m\u001b[0m\n\u001b[1;32m   2480\u001b[0m \u001b[0;34m\u001b[0m\u001b[0m\n",
      "\u001b[0;32m/home/shared/anaconda3/lib/python3.6/site-packages/tensorflow/python/client/session.py\u001b[0m in \u001b[0;36mrun\u001b[0;34m(self, fetches, feed_dict, options, run_metadata)\u001b[0m\n\u001b[1;32m    903\u001b[0m     \u001b[0;32mtry\u001b[0m\u001b[0;34m:\u001b[0m\u001b[0;34m\u001b[0m\u001b[0m\n\u001b[1;32m    904\u001b[0m       result = self._run(None, fetches, feed_dict, options_ptr,\n\u001b[0;32m--> 905\u001b[0;31m                          run_metadata_ptr)\n\u001b[0m\u001b[1;32m    906\u001b[0m       \u001b[0;32mif\u001b[0m \u001b[0mrun_metadata\u001b[0m\u001b[0;34m:\u001b[0m\u001b[0;34m\u001b[0m\u001b[0m\n\u001b[1;32m    907\u001b[0m         \u001b[0mproto_data\u001b[0m \u001b[0;34m=\u001b[0m \u001b[0mtf_session\u001b[0m\u001b[0;34m.\u001b[0m\u001b[0mTF_GetBuffer\u001b[0m\u001b[0;34m(\u001b[0m\u001b[0mrun_metadata_ptr\u001b[0m\u001b[0;34m)\u001b[0m\u001b[0;34m\u001b[0m\u001b[0m\n",
      "\u001b[0;32m/home/shared/anaconda3/lib/python3.6/site-packages/tensorflow/python/client/session.py\u001b[0m in \u001b[0;36m_run\u001b[0;34m(self, handle, fetches, feed_dict, options, run_metadata)\u001b[0m\n\u001b[1;32m   1138\u001b[0m     \u001b[0;32mif\u001b[0m \u001b[0mfinal_fetches\u001b[0m \u001b[0;32mor\u001b[0m \u001b[0mfinal_targets\u001b[0m \u001b[0;32mor\u001b[0m \u001b[0;34m(\u001b[0m\u001b[0mhandle\u001b[0m \u001b[0;32mand\u001b[0m \u001b[0mfeed_dict_tensor\u001b[0m\u001b[0;34m)\u001b[0m\u001b[0;34m:\u001b[0m\u001b[0;34m\u001b[0m\u001b[0m\n\u001b[1;32m   1139\u001b[0m       results = self._do_run(handle, final_targets, final_fetches,\n\u001b[0;32m-> 1140\u001b[0;31m                              feed_dict_tensor, options, run_metadata)\n\u001b[0m\u001b[1;32m   1141\u001b[0m     \u001b[0;32melse\u001b[0m\u001b[0;34m:\u001b[0m\u001b[0;34m\u001b[0m\u001b[0m\n\u001b[1;32m   1142\u001b[0m       \u001b[0mresults\u001b[0m \u001b[0;34m=\u001b[0m \u001b[0;34m[\u001b[0m\u001b[0;34m]\u001b[0m\u001b[0;34m\u001b[0m\u001b[0m\n",
      "\u001b[0;32m/home/shared/anaconda3/lib/python3.6/site-packages/tensorflow/python/client/session.py\u001b[0m in \u001b[0;36m_do_run\u001b[0;34m(self, handle, target_list, fetch_list, feed_dict, options, run_metadata)\u001b[0m\n\u001b[1;32m   1319\u001b[0m     \u001b[0;32mif\u001b[0m \u001b[0mhandle\u001b[0m \u001b[0;32mis\u001b[0m \u001b[0;32mNone\u001b[0m\u001b[0;34m:\u001b[0m\u001b[0;34m\u001b[0m\u001b[0m\n\u001b[1;32m   1320\u001b[0m       return self._do_call(_run_fn, feeds, fetches, targets, options,\n\u001b[0;32m-> 1321\u001b[0;31m                            run_metadata)\n\u001b[0m\u001b[1;32m   1322\u001b[0m     \u001b[0;32melse\u001b[0m\u001b[0;34m:\u001b[0m\u001b[0;34m\u001b[0m\u001b[0m\n\u001b[1;32m   1323\u001b[0m       \u001b[0;32mreturn\u001b[0m \u001b[0mself\u001b[0m\u001b[0;34m.\u001b[0m\u001b[0m_do_call\u001b[0m\u001b[0;34m(\u001b[0m\u001b[0m_prun_fn\u001b[0m\u001b[0;34m,\u001b[0m \u001b[0mhandle\u001b[0m\u001b[0;34m,\u001b[0m \u001b[0mfeeds\u001b[0m\u001b[0;34m,\u001b[0m \u001b[0mfetches\u001b[0m\u001b[0;34m)\u001b[0m\u001b[0;34m\u001b[0m\u001b[0m\n",
      "\u001b[0;32m/home/shared/anaconda3/lib/python3.6/site-packages/tensorflow/python/client/session.py\u001b[0m in \u001b[0;36m_do_call\u001b[0;34m(self, fn, *args)\u001b[0m\n\u001b[1;32m   1325\u001b[0m   \u001b[0;32mdef\u001b[0m \u001b[0m_do_call\u001b[0m\u001b[0;34m(\u001b[0m\u001b[0mself\u001b[0m\u001b[0;34m,\u001b[0m \u001b[0mfn\u001b[0m\u001b[0;34m,\u001b[0m \u001b[0;34m*\u001b[0m\u001b[0margs\u001b[0m\u001b[0;34m)\u001b[0m\u001b[0;34m:\u001b[0m\u001b[0;34m\u001b[0m\u001b[0m\n\u001b[1;32m   1326\u001b[0m     \u001b[0;32mtry\u001b[0m\u001b[0;34m:\u001b[0m\u001b[0;34m\u001b[0m\u001b[0m\n\u001b[0;32m-> 1327\u001b[0;31m       \u001b[0;32mreturn\u001b[0m \u001b[0mfn\u001b[0m\u001b[0;34m(\u001b[0m\u001b[0;34m*\u001b[0m\u001b[0margs\u001b[0m\u001b[0;34m)\u001b[0m\u001b[0;34m\u001b[0m\u001b[0m\n\u001b[0m\u001b[1;32m   1328\u001b[0m     \u001b[0;32mexcept\u001b[0m \u001b[0merrors\u001b[0m\u001b[0;34m.\u001b[0m\u001b[0mOpError\u001b[0m \u001b[0;32mas\u001b[0m \u001b[0me\u001b[0m\u001b[0;34m:\u001b[0m\u001b[0;34m\u001b[0m\u001b[0m\n\u001b[1;32m   1329\u001b[0m       \u001b[0mmessage\u001b[0m \u001b[0;34m=\u001b[0m \u001b[0mcompat\u001b[0m\u001b[0;34m.\u001b[0m\u001b[0mas_text\u001b[0m\u001b[0;34m(\u001b[0m\u001b[0me\u001b[0m\u001b[0;34m.\u001b[0m\u001b[0mmessage\u001b[0m\u001b[0;34m)\u001b[0m\u001b[0;34m\u001b[0m\u001b[0m\n",
      "\u001b[0;32m/home/shared/anaconda3/lib/python3.6/site-packages/tensorflow/python/client/session.py\u001b[0m in \u001b[0;36m_run_fn\u001b[0;34m(feed_dict, fetch_list, target_list, options, run_metadata)\u001b[0m\n\u001b[1;32m   1310\u001b[0m       \u001b[0mself\u001b[0m\u001b[0;34m.\u001b[0m\u001b[0m_extend_graph\u001b[0m\u001b[0;34m(\u001b[0m\u001b[0;34m)\u001b[0m\u001b[0;34m\u001b[0m\u001b[0m\n\u001b[1;32m   1311\u001b[0m       return self._call_tf_sessionrun(\n\u001b[0;32m-> 1312\u001b[0;31m           options, feed_dict, fetch_list, target_list, run_metadata)\n\u001b[0m\u001b[1;32m   1313\u001b[0m \u001b[0;34m\u001b[0m\u001b[0m\n\u001b[1;32m   1314\u001b[0m     \u001b[0;32mdef\u001b[0m \u001b[0m_prun_fn\u001b[0m\u001b[0;34m(\u001b[0m\u001b[0mhandle\u001b[0m\u001b[0;34m,\u001b[0m \u001b[0mfeed_dict\u001b[0m\u001b[0;34m,\u001b[0m \u001b[0mfetch_list\u001b[0m\u001b[0;34m)\u001b[0m\u001b[0;34m:\u001b[0m\u001b[0;34m\u001b[0m\u001b[0m\n",
      "\u001b[0;32m/home/shared/anaconda3/lib/python3.6/site-packages/tensorflow/python/client/session.py\u001b[0m in \u001b[0;36m_call_tf_sessionrun\u001b[0;34m(self, options, feed_dict, fetch_list, target_list, run_metadata)\u001b[0m\n\u001b[1;32m   1418\u001b[0m         return tf_session.TF_Run(\n\u001b[1;32m   1419\u001b[0m             \u001b[0mself\u001b[0m\u001b[0;34m.\u001b[0m\u001b[0m_session\u001b[0m\u001b[0;34m,\u001b[0m \u001b[0moptions\u001b[0m\u001b[0;34m,\u001b[0m \u001b[0mfeed_dict\u001b[0m\u001b[0;34m,\u001b[0m \u001b[0mfetch_list\u001b[0m\u001b[0;34m,\u001b[0m \u001b[0mtarget_list\u001b[0m\u001b[0;34m,\u001b[0m\u001b[0;34m\u001b[0m\u001b[0m\n\u001b[0;32m-> 1420\u001b[0;31m             status, run_metadata)\n\u001b[0m\u001b[1;32m   1421\u001b[0m \u001b[0;34m\u001b[0m\u001b[0m\n\u001b[1;32m   1422\u001b[0m   \u001b[0;32mdef\u001b[0m \u001b[0m_call_tf_sessionprun\u001b[0m\u001b[0;34m(\u001b[0m\u001b[0mself\u001b[0m\u001b[0;34m,\u001b[0m \u001b[0mhandle\u001b[0m\u001b[0;34m,\u001b[0m \u001b[0mfeed_dict\u001b[0m\u001b[0;34m,\u001b[0m \u001b[0mfetch_list\u001b[0m\u001b[0;34m)\u001b[0m\u001b[0;34m:\u001b[0m\u001b[0;34m\u001b[0m\u001b[0m\n",
      "\u001b[0;31mKeyboardInterrupt\u001b[0m: "
     ]
    }
   ],
   "source": [
    "for n in range(1,10):\n",
    "    nBuckets = 2 ** n + 1\n",
    "    \n",
    "    # get buckets separating values in a list \n",
    "    print(\"nBuckets:\", nBuckets)\n",
    "    if nBuckets == 3:\n",
    "        bucket_list = [-Inf,0,Inf]\n",
    "    else:\n",
    "        bucket_list = bucket_separate((nBuckets-1)/2,[-Inf,0,Inf],y_neg)\n",
    "        bucket_list = bucket_separate((nBuckets-1)/2,bucket_list,y_pos)\n",
    "    print(bucket_list)\n",
    "\n",
    "    train_X, train_Y, test_X, test_Y, de_norm_train, de_norm_test, true_Y_test = \\\n",
    "    lstm_preprocess(data, close_price, time, bucket_list, 0)\n",
    "    \n",
    "    model = build_model(train_X,nBuckets)\n",
    "    model.summary()\n",
    "    res = model.fit(train_X, train_Y,batch_size=512, epochs=5,verbose=1, shuffle=True,validation_split = 0.1)\n",
    "    \n",
    "    # evaluate on test set, print [loss, accuracy]\n",
    "    #test_result = model.evaluate(test_X, test_Y)\n",
    "    \n",
    "    # evaluate on test set, print [loss, accuracy]\n",
    "    test_result = model.evaluate(test_X, test_Y)\n",
    "    print(test_result)\n",
    "    \n",
    "    # evaluate on test set again, print equivalent\n",
    "    Y_pred = model.predict(test_X)\n",
    "    mse,pred = mse_pred(true_Y_test,Y_pred,de_norm_test,False,bucket_list)\n",
    "    print(mse)"
   ]
  },
  {
   "cell_type": "code",
   "execution_count": 51,
   "metadata": {},
   "outputs": [],
   "source": [
    "model.save(\"lstm_1_delta.h5\")"
   ]
  },
  {
   "cell_type": "code",
   "execution_count": 93,
   "metadata": {},
   "outputs": [
    {
     "data": {
      "image/png": "[encoded data removed]",
      "text/plain": [
       "<matplotlib.figure.Figure at 0x7fadb5267518>"
      ]
     },
     "metadata": {},
     "output_type": "display_data"
    }
   ],
   "source": [
    "import matplotlib.pyplot as plt\n",
    "t = np.arange(0,pred.shape[0])\n",
    "plt.plot(t, pred, true_Y_test)\n",
    "plt.show()"
   ]
  },
  {
   "cell_type": "code",
   "execution_count": 13,
   "metadata": {},
   "outputs": [
    {
     "name": "stdout",
     "output_type": "stream",
     "text": [
      "mean squared error equivalent in test set is 77831.0\n",
      "77831.0\n"
     ]
    }
   ],
   "source": [
    "mse,pred = mse_pred(true_Y_test,Y_pred,de_norm_test,False,bucket_list)\n",
    "print(mse)"
   ]
  },
  {
   "cell_type": "code",
   "execution_count": null,
   "metadata": {},
   "outputs": [],
   "source": []
  }
 ],
 "metadata": {
  "kernelspec": {
   "display_name": "Python 3",
   "language": "python",
   "name": "python3"
  },
  "language_info": {
   "codemirror_mode": {
    "name": "ipython",
    "version": 3
   },
   "file_extension": ".py",
   "mimetype": "text/x-python",
   "name": "python",
   "nbconvert_exporter": "python",
   "pygments_lexer": "ipython3",
   "version": "3.6.4"
  }
 },
 "nbformat": 4,
 "nbformat_minor": 2
}
